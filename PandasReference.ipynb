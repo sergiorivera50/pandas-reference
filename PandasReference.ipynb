{
 "cells": [
  {
   "cell_type": "markdown",
   "metadata": {
    "colab_type": "text",
    "id": "5sL8E4TZDQ1_"
   },
   "source": [
    "# Object Creation\n",
    "Creation of Series and DataFrames"
   ]
  },
  {
   "cell_type": "code",
   "execution_count": 0,
   "metadata": {
    "colab": {
     "base_uri": "https://localhost:8080/",
     "height": 118
    },
    "colab_type": "code",
    "id": "MEXH7ww3CLls",
    "outputId": "3aa6a1f8-c43e-4a66-d823-ca74219708d2"
   },
   "outputs": [
    {
     "data": {
      "text/plain": [
       "0    5.0\n",
       "1    2.0\n",
       "2    NaN\n",
       "3    8.0\n",
       "4    3.0\n",
       "dtype: float64"
      ]
     },
     "execution_count": 1,
     "metadata": {
      "tags": []
     },
     "output_type": "execute_result"
    }
   ],
   "source": [
    "import numpy as np\n",
    "import pandas as pd\n",
    "\n",
    "s = pd.Series([5, 2, np.nan, 8, 3])\n",
    "\n",
    "s"
   ]
  },
  {
   "cell_type": "code",
   "execution_count": 0,
   "metadata": {
    "colab": {
     "base_uri": "https://localhost:8080/",
     "height": 402
    },
    "colab_type": "code",
    "id": "chM-RaR5DURX",
    "outputId": "18804a2d-318b-49a0-ceed-d666605112cb"
   },
   "outputs": [
    {
     "data": {
      "text/html": [
       "<div>\n",
       "<style scoped>\n",
       "    .dataframe tbody tr th:only-of-type {\n",
       "        vertical-align: middle;\n",
       "    }\n",
       "\n",
       "    .dataframe tbody tr th {\n",
       "        vertical-align: top;\n",
       "    }\n",
       "\n",
       "    .dataframe thead th {\n",
       "        text-align: right;\n",
       "    }\n",
       "</style>\n",
       "<table border=\"1\" class=\"dataframe\">\n",
       "  <thead>\n",
       "    <tr style=\"text-align: right;\">\n",
       "      <th></th>\n",
       "      <th>A</th>\n",
       "      <th>B</th>\n",
       "      <th>C</th>\n",
       "      <th>D</th>\n",
       "    </tr>\n",
       "  </thead>\n",
       "  <tbody>\n",
       "    <tr>\n",
       "      <th>2013-01-31</th>\n",
       "      <td>0.708013</td>\n",
       "      <td>-0.004502</td>\n",
       "      <td>0.441911</td>\n",
       "      <td>0.945155</td>\n",
       "    </tr>\n",
       "    <tr>\n",
       "      <th>2013-02-28</th>\n",
       "      <td>0.072095</td>\n",
       "      <td>1.616562</td>\n",
       "      <td>-0.347967</td>\n",
       "      <td>-0.337045</td>\n",
       "    </tr>\n",
       "    <tr>\n",
       "      <th>2013-03-31</th>\n",
       "      <td>0.667359</td>\n",
       "      <td>1.392938</td>\n",
       "      <td>2.455543</td>\n",
       "      <td>-0.291956</td>\n",
       "    </tr>\n",
       "    <tr>\n",
       "      <th>2013-04-30</th>\n",
       "      <td>1.749657</td>\n",
       "      <td>-0.749766</td>\n",
       "      <td>-0.652762</td>\n",
       "      <td>2.050782</td>\n",
       "    </tr>\n",
       "    <tr>\n",
       "      <th>2013-05-31</th>\n",
       "      <td>0.957102</td>\n",
       "      <td>0.192933</td>\n",
       "      <td>0.321934</td>\n",
       "      <td>0.520162</td>\n",
       "    </tr>\n",
       "    <tr>\n",
       "      <th>2013-06-30</th>\n",
       "      <td>0.024835</td>\n",
       "      <td>0.746146</td>\n",
       "      <td>0.856928</td>\n",
       "      <td>-0.628672</td>\n",
       "    </tr>\n",
       "    <tr>\n",
       "      <th>2013-07-31</th>\n",
       "      <td>2.668856</td>\n",
       "      <td>-0.519759</td>\n",
       "      <td>-1.396908</td>\n",
       "      <td>-0.226528</td>\n",
       "    </tr>\n",
       "    <tr>\n",
       "      <th>2013-08-31</th>\n",
       "      <td>0.664134</td>\n",
       "      <td>1.488608</td>\n",
       "      <td>0.875024</td>\n",
       "      <td>0.384178</td>\n",
       "    </tr>\n",
       "    <tr>\n",
       "      <th>2013-09-30</th>\n",
       "      <td>-0.195505</td>\n",
       "      <td>-0.972930</td>\n",
       "      <td>-0.079203</td>\n",
       "      <td>1.039312</td>\n",
       "    </tr>\n",
       "    <tr>\n",
       "      <th>2013-10-31</th>\n",
       "      <td>-0.638550</td>\n",
       "      <td>-1.063592</td>\n",
       "      <td>-0.328096</td>\n",
       "      <td>0.738510</td>\n",
       "    </tr>\n",
       "    <tr>\n",
       "      <th>2013-11-30</th>\n",
       "      <td>-1.030374</td>\n",
       "      <td>0.425851</td>\n",
       "      <td>0.168814</td>\n",
       "      <td>0.106634</td>\n",
       "    </tr>\n",
       "    <tr>\n",
       "      <th>2013-12-31</th>\n",
       "      <td>0.161653</td>\n",
       "      <td>-0.843938</td>\n",
       "      <td>0.311525</td>\n",
       "      <td>0.136695</td>\n",
       "    </tr>\n",
       "  </tbody>\n",
       "</table>\n",
       "</div>"
      ],
      "text/plain": [
       "                   A         B         C         D\n",
       "2013-01-31  0.708013 -0.004502  0.441911  0.945155\n",
       "2013-02-28  0.072095  1.616562 -0.347967 -0.337045\n",
       "2013-03-31  0.667359  1.392938  2.455543 -0.291956\n",
       "2013-04-30  1.749657 -0.749766 -0.652762  2.050782\n",
       "2013-05-31  0.957102  0.192933  0.321934  0.520162\n",
       "2013-06-30  0.024835  0.746146  0.856928 -0.628672\n",
       "2013-07-31  2.668856 -0.519759 -1.396908 -0.226528\n",
       "2013-08-31  0.664134  1.488608  0.875024  0.384178\n",
       "2013-09-30 -0.195505 -0.972930 -0.079203  1.039312\n",
       "2013-10-31 -0.638550 -1.063592 -0.328096  0.738510\n",
       "2013-11-30 -1.030374  0.425851  0.168814  0.106634\n",
       "2013-12-31  0.161653 -0.843938  0.311525  0.136695"
      ]
     },
     "execution_count": 7,
     "metadata": {
      "tags": []
     },
     "output_type": "execute_result"
    }
   ],
   "source": [
    "dates = pd.date_range(\"20130101\", periods=12, freq=\"M\")\n",
    "\n",
    "df = pd.DataFrame(np.random.randn(12, 4), index=dates, columns=list(\"ABCD\"))\n",
    "\n",
    "df"
   ]
  },
  {
   "cell_type": "code",
   "execution_count": 0,
   "metadata": {
    "colab": {
     "base_uri": "https://localhost:8080/",
     "height": 166
    },
    "colab_type": "code",
    "id": "fQu10LVnEJqe",
    "outputId": "cc5a2eac-4e16-46e4-b886-c56697d4d6e1"
   },
   "outputs": [
    {
     "data": {
      "text/html": [
       "<div>\n",
       "<style scoped>\n",
       "    .dataframe tbody tr th:only-of-type {\n",
       "        vertical-align: middle;\n",
       "    }\n",
       "\n",
       "    .dataframe tbody tr th {\n",
       "        vertical-align: top;\n",
       "    }\n",
       "\n",
       "    .dataframe thead th {\n",
       "        text-align: right;\n",
       "    }\n",
       "</style>\n",
       "<table border=\"1\" class=\"dataframe\">\n",
       "  <thead>\n",
       "    <tr style=\"text-align: right;\">\n",
       "      <th></th>\n",
       "      <th>A</th>\n",
       "      <th>B</th>\n",
       "      <th>C</th>\n",
       "      <th>D</th>\n",
       "      <th>E</th>\n",
       "      <th>F</th>\n",
       "    </tr>\n",
       "  </thead>\n",
       "  <tbody>\n",
       "    <tr>\n",
       "      <th>0</th>\n",
       "      <td>1.0</td>\n",
       "      <td>2013-02-01</td>\n",
       "      <td>1</td>\n",
       "      <td>3</td>\n",
       "      <td>test</td>\n",
       "      <td>foo</td>\n",
       "    </tr>\n",
       "    <tr>\n",
       "      <th>1</th>\n",
       "      <td>1.0</td>\n",
       "      <td>2013-02-01</td>\n",
       "      <td>1</td>\n",
       "      <td>3</td>\n",
       "      <td>train</td>\n",
       "      <td>foo</td>\n",
       "    </tr>\n",
       "    <tr>\n",
       "      <th>2</th>\n",
       "      <td>1.0</td>\n",
       "      <td>2013-02-01</td>\n",
       "      <td>1</td>\n",
       "      <td>3</td>\n",
       "      <td>test</td>\n",
       "      <td>foo</td>\n",
       "    </tr>\n",
       "    <tr>\n",
       "      <th>3</th>\n",
       "      <td>1.0</td>\n",
       "      <td>2013-02-01</td>\n",
       "      <td>1</td>\n",
       "      <td>3</td>\n",
       "      <td>train</td>\n",
       "      <td>foo</td>\n",
       "    </tr>\n",
       "  </tbody>\n",
       "</table>\n",
       "</div>"
      ],
      "text/plain": [
       "     A          B  C  D      E    F\n",
       "0  1.0 2013-02-01  1  3   test  foo\n",
       "1  1.0 2013-02-01  1  3  train  foo\n",
       "2  1.0 2013-02-01  1  3   test  foo\n",
       "3  1.0 2013-02-01  1  3  train  foo"
      ]
     },
     "execution_count": 14,
     "metadata": {
      "tags": []
     },
     "output_type": "execute_result"
    }
   ],
   "source": [
    "df_dic = pd.DataFrame({\n",
    "    \"A\": 1.,\n",
    "    \"B\": pd.Timestamp(\"20130201\"),\n",
    "    \"C\": pd.Series(1, index=list(range(4))),\n",
    "    \"D\": np.array([3] * 4, dtype=\"int32\"),\n",
    "    \"E\": pd.Categorical([\"test\", \"train\", \"test\", \"train\"]),\n",
    "    \"F\": \"foo\"\n",
    "})\n",
    "\n",
    "df_dic"
   ]
  },
  {
   "cell_type": "code",
   "execution_count": 0,
   "metadata": {
    "colab": {
     "base_uri": "https://localhost:8080/",
     "height": 134
    },
    "colab_type": "code",
    "id": "r61esq5aFFtV",
    "outputId": "69f8b577-11b6-46e3-a6a9-eaffd813987f"
   },
   "outputs": [
    {
     "data": {
      "text/plain": [
       "A           float64\n",
       "B    datetime64[ns]\n",
       "C             int64\n",
       "D             int32\n",
       "E          category\n",
       "F            object\n",
       "dtype: object"
      ]
     },
     "execution_count": 15,
     "metadata": {
      "tags": []
     },
     "output_type": "execute_result"
    }
   ],
   "source": [
    "#Columns of the resulting DataFrame \"df_dic\" have different dtypes\n",
    "df_dic.dtypes"
   ]
  },
  {
   "cell_type": "markdown",
   "metadata": {
    "colab_type": "text",
    "id": "WklukkluFgdx"
   },
   "source": [
    "Data Visualization"
   ]
  },
  {
   "cell_type": "code",
   "execution_count": 0,
   "metadata": {
    "colab": {
     "base_uri": "https://localhost:8080/",
     "height": 195
    },
    "colab_type": "code",
    "id": "UrLucyToFkPv",
    "outputId": "3bb60d09-fef6-4b02-d184-ef1c31724ad9"
   },
   "outputs": [
    {
     "data": {
      "text/html": [
       "<div>\n",
       "<style scoped>\n",
       "    .dataframe tbody tr th:only-of-type {\n",
       "        vertical-align: middle;\n",
       "    }\n",
       "\n",
       "    .dataframe tbody tr th {\n",
       "        vertical-align: top;\n",
       "    }\n",
       "\n",
       "    .dataframe thead th {\n",
       "        text-align: right;\n",
       "    }\n",
       "</style>\n",
       "<table border=\"1\" class=\"dataframe\">\n",
       "  <thead>\n",
       "    <tr style=\"text-align: right;\">\n",
       "      <th></th>\n",
       "      <th>A</th>\n",
       "      <th>B</th>\n",
       "      <th>C</th>\n",
       "      <th>D</th>\n",
       "    </tr>\n",
       "  </thead>\n",
       "  <tbody>\n",
       "    <tr>\n",
       "      <th>2013-01-31</th>\n",
       "      <td>0.708013</td>\n",
       "      <td>-0.004502</td>\n",
       "      <td>0.441911</td>\n",
       "      <td>0.945155</td>\n",
       "    </tr>\n",
       "    <tr>\n",
       "      <th>2013-02-28</th>\n",
       "      <td>0.072095</td>\n",
       "      <td>1.616562</td>\n",
       "      <td>-0.347967</td>\n",
       "      <td>-0.337045</td>\n",
       "    </tr>\n",
       "    <tr>\n",
       "      <th>2013-03-31</th>\n",
       "      <td>0.667359</td>\n",
       "      <td>1.392938</td>\n",
       "      <td>2.455543</td>\n",
       "      <td>-0.291956</td>\n",
       "    </tr>\n",
       "    <tr>\n",
       "      <th>2013-04-30</th>\n",
       "      <td>1.749657</td>\n",
       "      <td>-0.749766</td>\n",
       "      <td>-0.652762</td>\n",
       "      <td>2.050782</td>\n",
       "    </tr>\n",
       "    <tr>\n",
       "      <th>2013-05-31</th>\n",
       "      <td>0.957102</td>\n",
       "      <td>0.192933</td>\n",
       "      <td>0.321934</td>\n",
       "      <td>0.520162</td>\n",
       "    </tr>\n",
       "  </tbody>\n",
       "</table>\n",
       "</div>"
      ],
      "text/plain": [
       "                   A         B         C         D\n",
       "2013-01-31  0.708013 -0.004502  0.441911  0.945155\n",
       "2013-02-28  0.072095  1.616562 -0.347967 -0.337045\n",
       "2013-03-31  0.667359  1.392938  2.455543 -0.291956\n",
       "2013-04-30  1.749657 -0.749766 -0.652762  2.050782\n",
       "2013-05-31  0.957102  0.192933  0.321934  0.520162"
      ]
     },
     "execution_count": 17,
     "metadata": {
      "tags": []
     },
     "output_type": "execute_result"
    }
   ],
   "source": [
    "#First 5 rows of data\n",
    "df.head()"
   ]
  },
  {
   "cell_type": "code",
   "execution_count": 0,
   "metadata": {
    "colab": {
     "base_uri": "https://localhost:8080/",
     "height": 136
    },
    "colab_type": "code",
    "id": "0AV3k_dGFrDX",
    "outputId": "2eb95680-795d-4a23-d6d8-00fd33e70f3d"
   },
   "outputs": [
    {
     "data": {
      "text/html": [
       "<div>\n",
       "<style scoped>\n",
       "    .dataframe tbody tr th:only-of-type {\n",
       "        vertical-align: middle;\n",
       "    }\n",
       "\n",
       "    .dataframe tbody tr th {\n",
       "        vertical-align: top;\n",
       "    }\n",
       "\n",
       "    .dataframe thead th {\n",
       "        text-align: right;\n",
       "    }\n",
       "</style>\n",
       "<table border=\"1\" class=\"dataframe\">\n",
       "  <thead>\n",
       "    <tr style=\"text-align: right;\">\n",
       "      <th></th>\n",
       "      <th>A</th>\n",
       "      <th>B</th>\n",
       "      <th>C</th>\n",
       "      <th>D</th>\n",
       "    </tr>\n",
       "  </thead>\n",
       "  <tbody>\n",
       "    <tr>\n",
       "      <th>2013-10-31</th>\n",
       "      <td>-0.638550</td>\n",
       "      <td>-1.063592</td>\n",
       "      <td>-0.328096</td>\n",
       "      <td>0.738510</td>\n",
       "    </tr>\n",
       "    <tr>\n",
       "      <th>2013-11-30</th>\n",
       "      <td>-1.030374</td>\n",
       "      <td>0.425851</td>\n",
       "      <td>0.168814</td>\n",
       "      <td>0.106634</td>\n",
       "    </tr>\n",
       "    <tr>\n",
       "      <th>2013-12-31</th>\n",
       "      <td>0.161653</td>\n",
       "      <td>-0.843938</td>\n",
       "      <td>0.311525</td>\n",
       "      <td>0.136695</td>\n",
       "    </tr>\n",
       "  </tbody>\n",
       "</table>\n",
       "</div>"
      ],
      "text/plain": [
       "                   A         B         C         D\n",
       "2013-10-31 -0.638550 -1.063592 -0.328096  0.738510\n",
       "2013-11-30 -1.030374  0.425851  0.168814  0.106634\n",
       "2013-12-31  0.161653 -0.843938  0.311525  0.136695"
      ]
     },
     "execution_count": 18,
     "metadata": {
      "tags": []
     },
     "output_type": "execute_result"
    }
   ],
   "source": [
    "#Last 3 rows of data\n",
    "df.tail(3)"
   ]
  },
  {
   "cell_type": "code",
   "execution_count": 0,
   "metadata": {
    "colab": {
     "base_uri": "https://localhost:8080/",
     "height": 84
    },
    "colab_type": "code",
    "id": "kZytch8BFyMX",
    "outputId": "ed6ee7bc-cf69-42d0-ad74-2fc8c38db484"
   },
   "outputs": [
    {
     "data": {
      "text/plain": [
       "DatetimeIndex(['2013-01-31', '2013-02-28', '2013-03-31', '2013-04-30',\n",
       "               '2013-05-31', '2013-06-30', '2013-07-31', '2013-08-31',\n",
       "               '2013-09-30', '2013-10-31', '2013-11-30', '2013-12-31'],\n",
       "              dtype='datetime64[ns]', freq='M')"
      ]
     },
     "execution_count": 19,
     "metadata": {
      "tags": []
     },
     "output_type": "execute_result"
    }
   ],
   "source": [
    "#Display the index\n",
    "df.index"
   ]
  },
  {
   "cell_type": "code",
   "execution_count": 0,
   "metadata": {
    "colab": {
     "base_uri": "https://localhost:8080/",
     "height": 34
    },
    "colab_type": "code",
    "id": "8Pp5TNJRF1-e",
    "outputId": "3da8578a-d668-4e70-b137-2d234bc54cf6"
   },
   "outputs": [
    {
     "data": {
      "text/plain": [
       "Index(['A', 'B', 'C', 'D'], dtype='object')"
      ]
     },
     "execution_count": 20,
     "metadata": {
      "tags": []
     },
     "output_type": "execute_result"
    }
   ],
   "source": [
    "#Display the columns\n",
    "df.columns"
   ]
  },
  {
   "cell_type": "code",
   "execution_count": 0,
   "metadata": {
    "colab": {
     "base_uri": "https://localhost:8080/",
     "height": 218
    },
    "colab_type": "code",
    "id": "pUX8H4AuF8Kw",
    "outputId": "e6fd34a5-8462-4e99-bf88-67c2e43f948a"
   },
   "outputs": [
    {
     "data": {
      "text/plain": [
       "array([[ 0.7080128 , -0.00450243,  0.44191147,  0.94515497],\n",
       "       [ 0.07209498,  1.6165618 , -0.34796657, -0.33704461],\n",
       "       [ 0.66735929,  1.39293792,  2.45554341, -0.29195596],\n",
       "       [ 1.74965726, -0.7497656 , -0.65276181,  2.05078248],\n",
       "       [ 0.95710247,  0.19293332,  0.32193366,  0.52016191],\n",
       "       [ 0.02483453,  0.74614604,  0.85692765, -0.62867213],\n",
       "       [ 2.66885626, -0.51975916, -1.39690775, -0.22652761],\n",
       "       [ 0.6641335 ,  1.48860792,  0.87502421,  0.3841781 ],\n",
       "       [-0.19550501, -0.97293036, -0.07920266,  1.03931242],\n",
       "       [-0.63855003, -1.06359227, -0.32809586,  0.73850983],\n",
       "       [-1.03037375,  0.42585144,  0.16881396,  0.10663382],\n",
       "       [ 0.16165272, -0.84393787,  0.31152542,  0.13669524]])"
      ]
     },
     "execution_count": 21,
     "metadata": {
      "tags": []
     },
     "output_type": "execute_result"
    }
   ],
   "source": [
    "#Pandas->NumPy\n",
    "#df items are the same dtypes so its cheap function\n",
    "df.to_numpy()"
   ]
  },
  {
   "cell_type": "code",
   "execution_count": 0,
   "metadata": {
    "colab": {
     "base_uri": "https://localhost:8080/",
     "height": 101
    },
    "colab_type": "code",
    "id": "_m_I_eMJGHvP",
    "outputId": "38fb0dc3-3cd3-494a-9659-5c718017f01d"
   },
   "outputs": [
    {
     "data": {
      "text/plain": [
       "array([[1.0, Timestamp('2013-02-01 00:00:00'), 1, 3, 'test', 'foo'],\n",
       "       [1.0, Timestamp('2013-02-01 00:00:00'), 1, 3, 'train', 'foo'],\n",
       "       [1.0, Timestamp('2013-02-01 00:00:00'), 1, 3, 'test', 'foo'],\n",
       "       [1.0, Timestamp('2013-02-01 00:00:00'), 1, 3, 'train', 'foo']],\n",
       "      dtype=object)"
      ]
     },
     "execution_count": 22,
     "metadata": {
      "tags": []
     },
     "output_type": "execute_result"
    }
   ],
   "source": [
    "#df_dic items don't have the same dtypes so the function is EXPENSIVE\n",
    "#as it has to convert them to dtype object\n",
    "df_dic.to_numpy()"
   ]
  },
  {
   "cell_type": "code",
   "execution_count": 0,
   "metadata": {
    "colab": {
     "base_uri": "https://localhost:8080/",
     "height": 284
    },
    "colab_type": "code",
    "id": "fodEXK6JGa5P",
    "outputId": "2c7f2500-e4b1-4d7a-c4ac-1b1091a08b78"
   },
   "outputs": [
    {
     "data": {
      "text/html": [
       "<div>\n",
       "<style scoped>\n",
       "    .dataframe tbody tr th:only-of-type {\n",
       "        vertical-align: middle;\n",
       "    }\n",
       "\n",
       "    .dataframe tbody tr th {\n",
       "        vertical-align: top;\n",
       "    }\n",
       "\n",
       "    .dataframe thead th {\n",
       "        text-align: right;\n",
       "    }\n",
       "</style>\n",
       "<table border=\"1\" class=\"dataframe\">\n",
       "  <thead>\n",
       "    <tr style=\"text-align: right;\">\n",
       "      <th></th>\n",
       "      <th>A</th>\n",
       "      <th>B</th>\n",
       "      <th>C</th>\n",
       "      <th>D</th>\n",
       "    </tr>\n",
       "  </thead>\n",
       "  <tbody>\n",
       "    <tr>\n",
       "      <th>count</th>\n",
       "      <td>12.000000</td>\n",
       "      <td>12.000000</td>\n",
       "      <td>12.000000</td>\n",
       "      <td>12.000000</td>\n",
       "    </tr>\n",
       "    <tr>\n",
       "      <th>mean</th>\n",
       "      <td>0.484106</td>\n",
       "      <td>0.142379</td>\n",
       "      <td>0.218895</td>\n",
       "      <td>0.369769</td>\n",
       "    </tr>\n",
       "    <tr>\n",
       "      <th>std</th>\n",
       "      <td>1.009732</td>\n",
       "      <td>0.996536</td>\n",
       "      <td>0.953063</td>\n",
       "      <td>0.749390</td>\n",
       "    </tr>\n",
       "    <tr>\n",
       "      <th>min</th>\n",
       "      <td>-1.030374</td>\n",
       "      <td>-1.063592</td>\n",
       "      <td>-1.396908</td>\n",
       "      <td>-0.628672</td>\n",
       "    </tr>\n",
       "    <tr>\n",
       "      <th>25%</th>\n",
       "      <td>-0.030250</td>\n",
       "      <td>-0.773309</td>\n",
       "      <td>-0.333064</td>\n",
       "      <td>-0.242885</td>\n",
       "    </tr>\n",
       "    <tr>\n",
       "      <th>50%</th>\n",
       "      <td>0.412893</td>\n",
       "      <td>0.094215</td>\n",
       "      <td>0.240170</td>\n",
       "      <td>0.260437</td>\n",
       "    </tr>\n",
       "    <tr>\n",
       "      <th>75%</th>\n",
       "      <td>0.770285</td>\n",
       "      <td>0.907844</td>\n",
       "      <td>0.545666</td>\n",
       "      <td>0.790171</td>\n",
       "    </tr>\n",
       "    <tr>\n",
       "      <th>max</th>\n",
       "      <td>2.668856</td>\n",
       "      <td>1.616562</td>\n",
       "      <td>2.455543</td>\n",
       "      <td>2.050782</td>\n",
       "    </tr>\n",
       "  </tbody>\n",
       "</table>\n",
       "</div>"
      ],
      "text/plain": [
       "               A          B          C          D\n",
       "count  12.000000  12.000000  12.000000  12.000000\n",
       "mean    0.484106   0.142379   0.218895   0.369769\n",
       "std     1.009732   0.996536   0.953063   0.749390\n",
       "min    -1.030374  -1.063592  -1.396908  -0.628672\n",
       "25%    -0.030250  -0.773309  -0.333064  -0.242885\n",
       "50%     0.412893   0.094215   0.240170   0.260437\n",
       "75%     0.770285   0.907844   0.545666   0.790171\n",
       "max     2.668856   1.616562   2.455543   2.050782"
      ]
     },
     "execution_count": 23,
     "metadata": {
      "tags": []
     },
     "output_type": "execute_result"
    }
   ],
   "source": [
    "#describe() shows quick statistic summary of the data\n",
    "df.describe()"
   ]
  },
  {
   "cell_type": "code",
   "execution_count": 0,
   "metadata": {
    "colab": {
     "base_uri": "https://localhost:8080/",
     "height": 219
    },
    "colab_type": "code",
    "id": "nvM_e6k6Gj0e",
    "outputId": "9d4e4031-ee0a-42f7-f7a8-5d2349e5159b"
   },
   "outputs": [
    {
     "data": {
      "text/html": [
       "<div>\n",
       "<style scoped>\n",
       "    .dataframe tbody tr th:only-of-type {\n",
       "        vertical-align: middle;\n",
       "    }\n",
       "\n",
       "    .dataframe tbody tr th {\n",
       "        vertical-align: top;\n",
       "    }\n",
       "\n",
       "    .dataframe thead th {\n",
       "        text-align: right;\n",
       "    }\n",
       "</style>\n",
       "<table border=\"1\" class=\"dataframe\">\n",
       "  <thead>\n",
       "    <tr style=\"text-align: right;\">\n",
       "      <th></th>\n",
       "      <th>2013-01-31 00:00:00</th>\n",
       "      <th>2013-02-28 00:00:00</th>\n",
       "      <th>2013-03-31 00:00:00</th>\n",
       "      <th>2013-04-30 00:00:00</th>\n",
       "      <th>2013-05-31 00:00:00</th>\n",
       "      <th>2013-06-30 00:00:00</th>\n",
       "      <th>2013-07-31 00:00:00</th>\n",
       "      <th>2013-08-31 00:00:00</th>\n",
       "      <th>2013-09-30 00:00:00</th>\n",
       "      <th>2013-10-31 00:00:00</th>\n",
       "      <th>2013-11-30 00:00:00</th>\n",
       "      <th>2013-12-31 00:00:00</th>\n",
       "    </tr>\n",
       "  </thead>\n",
       "  <tbody>\n",
       "    <tr>\n",
       "      <th>A</th>\n",
       "      <td>0.708013</td>\n",
       "      <td>0.072095</td>\n",
       "      <td>0.667359</td>\n",
       "      <td>1.749657</td>\n",
       "      <td>0.957102</td>\n",
       "      <td>0.024835</td>\n",
       "      <td>2.668856</td>\n",
       "      <td>0.664134</td>\n",
       "      <td>-0.195505</td>\n",
       "      <td>-0.638550</td>\n",
       "      <td>-1.030374</td>\n",
       "      <td>0.161653</td>\n",
       "    </tr>\n",
       "    <tr>\n",
       "      <th>B</th>\n",
       "      <td>-0.004502</td>\n",
       "      <td>1.616562</td>\n",
       "      <td>1.392938</td>\n",
       "      <td>-0.749766</td>\n",
       "      <td>0.192933</td>\n",
       "      <td>0.746146</td>\n",
       "      <td>-0.519759</td>\n",
       "      <td>1.488608</td>\n",
       "      <td>-0.972930</td>\n",
       "      <td>-1.063592</td>\n",
       "      <td>0.425851</td>\n",
       "      <td>-0.843938</td>\n",
       "    </tr>\n",
       "    <tr>\n",
       "      <th>C</th>\n",
       "      <td>0.441911</td>\n",
       "      <td>-0.347967</td>\n",
       "      <td>2.455543</td>\n",
       "      <td>-0.652762</td>\n",
       "      <td>0.321934</td>\n",
       "      <td>0.856928</td>\n",
       "      <td>-1.396908</td>\n",
       "      <td>0.875024</td>\n",
       "      <td>-0.079203</td>\n",
       "      <td>-0.328096</td>\n",
       "      <td>0.168814</td>\n",
       "      <td>0.311525</td>\n",
       "    </tr>\n",
       "    <tr>\n",
       "      <th>D</th>\n",
       "      <td>0.945155</td>\n",
       "      <td>-0.337045</td>\n",
       "      <td>-0.291956</td>\n",
       "      <td>2.050782</td>\n",
       "      <td>0.520162</td>\n",
       "      <td>-0.628672</td>\n",
       "      <td>-0.226528</td>\n",
       "      <td>0.384178</td>\n",
       "      <td>1.039312</td>\n",
       "      <td>0.738510</td>\n",
       "      <td>0.106634</td>\n",
       "      <td>0.136695</td>\n",
       "    </tr>\n",
       "  </tbody>\n",
       "</table>\n",
       "</div>"
      ],
      "text/plain": [
       "   2013-01-31  2013-02-28  2013-03-31  ...  2013-10-31  2013-11-30  2013-12-31\n",
       "A    0.708013    0.072095    0.667359  ...   -0.638550   -1.030374    0.161653\n",
       "B   -0.004502    1.616562    1.392938  ...   -1.063592    0.425851   -0.843938\n",
       "C    0.441911   -0.347967    2.455543  ...   -0.328096    0.168814    0.311525\n",
       "D    0.945155   -0.337045   -0.291956  ...    0.738510    0.106634    0.136695\n",
       "\n",
       "[4 rows x 12 columns]"
      ]
     },
     "execution_count": 24,
     "metadata": {
      "tags": []
     },
     "output_type": "execute_result"
    }
   ],
   "source": [
    "#Transpose DataFrame\n",
    "df.T"
   ]
  },
  {
   "cell_type": "code",
   "execution_count": 0,
   "metadata": {
    "colab": {
     "base_uri": "https://localhost:8080/",
     "height": 402
    },
    "colab_type": "code",
    "id": "lD19j5JLGo5O",
    "outputId": "ec89790b-6d2f-43be-b40b-bf8d2c130c0e"
   },
   "outputs": [
    {
     "data": {
      "text/html": [
       "<div>\n",
       "<style scoped>\n",
       "    .dataframe tbody tr th:only-of-type {\n",
       "        vertical-align: middle;\n",
       "    }\n",
       "\n",
       "    .dataframe tbody tr th {\n",
       "        vertical-align: top;\n",
       "    }\n",
       "\n",
       "    .dataframe thead th {\n",
       "        text-align: right;\n",
       "    }\n",
       "</style>\n",
       "<table border=\"1\" class=\"dataframe\">\n",
       "  <thead>\n",
       "    <tr style=\"text-align: right;\">\n",
       "      <th></th>\n",
       "      <th>D</th>\n",
       "      <th>C</th>\n",
       "      <th>B</th>\n",
       "      <th>A</th>\n",
       "    </tr>\n",
       "  </thead>\n",
       "  <tbody>\n",
       "    <tr>\n",
       "      <th>2013-01-31</th>\n",
       "      <td>0.945155</td>\n",
       "      <td>0.441911</td>\n",
       "      <td>-0.004502</td>\n",
       "      <td>0.708013</td>\n",
       "    </tr>\n",
       "    <tr>\n",
       "      <th>2013-02-28</th>\n",
       "      <td>-0.337045</td>\n",
       "      <td>-0.347967</td>\n",
       "      <td>1.616562</td>\n",
       "      <td>0.072095</td>\n",
       "    </tr>\n",
       "    <tr>\n",
       "      <th>2013-03-31</th>\n",
       "      <td>-0.291956</td>\n",
       "      <td>2.455543</td>\n",
       "      <td>1.392938</td>\n",
       "      <td>0.667359</td>\n",
       "    </tr>\n",
       "    <tr>\n",
       "      <th>2013-04-30</th>\n",
       "      <td>2.050782</td>\n",
       "      <td>-0.652762</td>\n",
       "      <td>-0.749766</td>\n",
       "      <td>1.749657</td>\n",
       "    </tr>\n",
       "    <tr>\n",
       "      <th>2013-05-31</th>\n",
       "      <td>0.520162</td>\n",
       "      <td>0.321934</td>\n",
       "      <td>0.192933</td>\n",
       "      <td>0.957102</td>\n",
       "    </tr>\n",
       "    <tr>\n",
       "      <th>2013-06-30</th>\n",
       "      <td>-0.628672</td>\n",
       "      <td>0.856928</td>\n",
       "      <td>0.746146</td>\n",
       "      <td>0.024835</td>\n",
       "    </tr>\n",
       "    <tr>\n",
       "      <th>2013-07-31</th>\n",
       "      <td>-0.226528</td>\n",
       "      <td>-1.396908</td>\n",
       "      <td>-0.519759</td>\n",
       "      <td>2.668856</td>\n",
       "    </tr>\n",
       "    <tr>\n",
       "      <th>2013-08-31</th>\n",
       "      <td>0.384178</td>\n",
       "      <td>0.875024</td>\n",
       "      <td>1.488608</td>\n",
       "      <td>0.664134</td>\n",
       "    </tr>\n",
       "    <tr>\n",
       "      <th>2013-09-30</th>\n",
       "      <td>1.039312</td>\n",
       "      <td>-0.079203</td>\n",
       "      <td>-0.972930</td>\n",
       "      <td>-0.195505</td>\n",
       "    </tr>\n",
       "    <tr>\n",
       "      <th>2013-10-31</th>\n",
       "      <td>0.738510</td>\n",
       "      <td>-0.328096</td>\n",
       "      <td>-1.063592</td>\n",
       "      <td>-0.638550</td>\n",
       "    </tr>\n",
       "    <tr>\n",
       "      <th>2013-11-30</th>\n",
       "      <td>0.106634</td>\n",
       "      <td>0.168814</td>\n",
       "      <td>0.425851</td>\n",
       "      <td>-1.030374</td>\n",
       "    </tr>\n",
       "    <tr>\n",
       "      <th>2013-12-31</th>\n",
       "      <td>0.136695</td>\n",
       "      <td>0.311525</td>\n",
       "      <td>-0.843938</td>\n",
       "      <td>0.161653</td>\n",
       "    </tr>\n",
       "  </tbody>\n",
       "</table>\n",
       "</div>"
      ],
      "text/plain": [
       "                   D         C         B         A\n",
       "2013-01-31  0.945155  0.441911 -0.004502  0.708013\n",
       "2013-02-28 -0.337045 -0.347967  1.616562  0.072095\n",
       "2013-03-31 -0.291956  2.455543  1.392938  0.667359\n",
       "2013-04-30  2.050782 -0.652762 -0.749766  1.749657\n",
       "2013-05-31  0.520162  0.321934  0.192933  0.957102\n",
       "2013-06-30 -0.628672  0.856928  0.746146  0.024835\n",
       "2013-07-31 -0.226528 -1.396908 -0.519759  2.668856\n",
       "2013-08-31  0.384178  0.875024  1.488608  0.664134\n",
       "2013-09-30  1.039312 -0.079203 -0.972930 -0.195505\n",
       "2013-10-31  0.738510 -0.328096 -1.063592 -0.638550\n",
       "2013-11-30  0.106634  0.168814  0.425851 -1.030374\n",
       "2013-12-31  0.136695  0.311525 -0.843938  0.161653"
      ]
     },
     "execution_count": 25,
     "metadata": {
      "tags": []
     },
     "output_type": "execute_result"
    }
   ],
   "source": [
    "#Sorting by axis\n",
    "df.sort_index(axis=1, ascending=False)"
   ]
  },
  {
   "cell_type": "code",
   "execution_count": 0,
   "metadata": {
    "colab": {
     "base_uri": "https://localhost:8080/",
     "height": 402
    },
    "colab_type": "code",
    "id": "u9OxKOSWGu4g",
    "outputId": "d7ef9eb4-b9c2-4687-906c-9750ebf201e1"
   },
   "outputs": [
    {
     "data": {
      "text/html": [
       "<div>\n",
       "<style scoped>\n",
       "    .dataframe tbody tr th:only-of-type {\n",
       "        vertical-align: middle;\n",
       "    }\n",
       "\n",
       "    .dataframe tbody tr th {\n",
       "        vertical-align: top;\n",
       "    }\n",
       "\n",
       "    .dataframe thead th {\n",
       "        text-align: right;\n",
       "    }\n",
       "</style>\n",
       "<table border=\"1\" class=\"dataframe\">\n",
       "  <thead>\n",
       "    <tr style=\"text-align: right;\">\n",
       "      <th></th>\n",
       "      <th>A</th>\n",
       "      <th>B</th>\n",
       "      <th>C</th>\n",
       "      <th>D</th>\n",
       "    </tr>\n",
       "  </thead>\n",
       "  <tbody>\n",
       "    <tr>\n",
       "      <th>2013-10-31</th>\n",
       "      <td>-0.638550</td>\n",
       "      <td>-1.063592</td>\n",
       "      <td>-0.328096</td>\n",
       "      <td>0.738510</td>\n",
       "    </tr>\n",
       "    <tr>\n",
       "      <th>2013-09-30</th>\n",
       "      <td>-0.195505</td>\n",
       "      <td>-0.972930</td>\n",
       "      <td>-0.079203</td>\n",
       "      <td>1.039312</td>\n",
       "    </tr>\n",
       "    <tr>\n",
       "      <th>2013-12-31</th>\n",
       "      <td>0.161653</td>\n",
       "      <td>-0.843938</td>\n",
       "      <td>0.311525</td>\n",
       "      <td>0.136695</td>\n",
       "    </tr>\n",
       "    <tr>\n",
       "      <th>2013-04-30</th>\n",
       "      <td>1.749657</td>\n",
       "      <td>-0.749766</td>\n",
       "      <td>-0.652762</td>\n",
       "      <td>2.050782</td>\n",
       "    </tr>\n",
       "    <tr>\n",
       "      <th>2013-07-31</th>\n",
       "      <td>2.668856</td>\n",
       "      <td>-0.519759</td>\n",
       "      <td>-1.396908</td>\n",
       "      <td>-0.226528</td>\n",
       "    </tr>\n",
       "    <tr>\n",
       "      <th>2013-01-31</th>\n",
       "      <td>0.708013</td>\n",
       "      <td>-0.004502</td>\n",
       "      <td>0.441911</td>\n",
       "      <td>0.945155</td>\n",
       "    </tr>\n",
       "    <tr>\n",
       "      <th>2013-05-31</th>\n",
       "      <td>0.957102</td>\n",
       "      <td>0.192933</td>\n",
       "      <td>0.321934</td>\n",
       "      <td>0.520162</td>\n",
       "    </tr>\n",
       "    <tr>\n",
       "      <th>2013-11-30</th>\n",
       "      <td>-1.030374</td>\n",
       "      <td>0.425851</td>\n",
       "      <td>0.168814</td>\n",
       "      <td>0.106634</td>\n",
       "    </tr>\n",
       "    <tr>\n",
       "      <th>2013-06-30</th>\n",
       "      <td>0.024835</td>\n",
       "      <td>0.746146</td>\n",
       "      <td>0.856928</td>\n",
       "      <td>-0.628672</td>\n",
       "    </tr>\n",
       "    <tr>\n",
       "      <th>2013-03-31</th>\n",
       "      <td>0.667359</td>\n",
       "      <td>1.392938</td>\n",
       "      <td>2.455543</td>\n",
       "      <td>-0.291956</td>\n",
       "    </tr>\n",
       "    <tr>\n",
       "      <th>2013-08-31</th>\n",
       "      <td>0.664134</td>\n",
       "      <td>1.488608</td>\n",
       "      <td>0.875024</td>\n",
       "      <td>0.384178</td>\n",
       "    </tr>\n",
       "    <tr>\n",
       "      <th>2013-02-28</th>\n",
       "      <td>0.072095</td>\n",
       "      <td>1.616562</td>\n",
       "      <td>-0.347967</td>\n",
       "      <td>-0.337045</td>\n",
       "    </tr>\n",
       "  </tbody>\n",
       "</table>\n",
       "</div>"
      ],
      "text/plain": [
       "                   A         B         C         D\n",
       "2013-10-31 -0.638550 -1.063592 -0.328096  0.738510\n",
       "2013-09-30 -0.195505 -0.972930 -0.079203  1.039312\n",
       "2013-12-31  0.161653 -0.843938  0.311525  0.136695\n",
       "2013-04-30  1.749657 -0.749766 -0.652762  2.050782\n",
       "2013-07-31  2.668856 -0.519759 -1.396908 -0.226528\n",
       "2013-01-31  0.708013 -0.004502  0.441911  0.945155\n",
       "2013-05-31  0.957102  0.192933  0.321934  0.520162\n",
       "2013-11-30 -1.030374  0.425851  0.168814  0.106634\n",
       "2013-06-30  0.024835  0.746146  0.856928 -0.628672\n",
       "2013-03-31  0.667359  1.392938  2.455543 -0.291956\n",
       "2013-08-31  0.664134  1.488608  0.875024  0.384178\n",
       "2013-02-28  0.072095  1.616562 -0.347967 -0.337045"
      ]
     },
     "execution_count": 27,
     "metadata": {
      "tags": []
     },
     "output_type": "execute_result"
    }
   ],
   "source": [
    "#Sorting by values\n",
    "df.sort_values(by=\"B\")"
   ]
  },
  {
   "cell_type": "markdown",
   "metadata": {
    "colab_type": "text",
    "id": "a4DghElZHAj-"
   },
   "source": [
    "# Selection\n",
    "Selecting data from DataFrames"
   ]
  },
  {
   "cell_type": "markdown",
   "metadata": {
    "colab_type": "text",
    "id": "9x3OkAWCHEsI"
   },
   "source": [
    "## Getting"
   ]
  },
  {
   "cell_type": "code",
   "execution_count": 0,
   "metadata": {
    "colab": {
     "base_uri": "https://localhost:8080/",
     "height": 235
    },
    "colab_type": "code",
    "id": "W5wkATFlHHnn",
    "outputId": "071280c4-42ee-4d15-bb78-56ddbe77bcb6"
   },
   "outputs": [
    {
     "data": {
      "text/plain": [
       "2013-01-31    0.708013\n",
       "2013-02-28    0.072095\n",
       "2013-03-31    0.667359\n",
       "2013-04-30    1.749657\n",
       "2013-05-31    0.957102\n",
       "2013-06-30    0.024835\n",
       "2013-07-31    2.668856\n",
       "2013-08-31    0.664134\n",
       "2013-09-30   -0.195505\n",
       "2013-10-31   -0.638550\n",
       "2013-11-30   -1.030374\n",
       "2013-12-31    0.161653\n",
       "Freq: M, Name: A, dtype: float64"
      ]
     },
     "execution_count": 31,
     "metadata": {
      "tags": []
     },
     "output_type": "execute_result"
    }
   ],
   "source": [
    "#Selecting a single column yields a Series equivalent to df.A\n",
    "df[\"A\"]"
   ]
  },
  {
   "cell_type": "code",
   "execution_count": 0,
   "metadata": {
    "colab": {
     "base_uri": "https://localhost:8080/",
     "height": 136
    },
    "colab_type": "code",
    "id": "apQ9pKx7HX9-",
    "outputId": "062ca28b-642d-4bdc-cf4b-84670c1b8d51"
   },
   "outputs": [
    {
     "data": {
      "text/html": [
       "<div>\n",
       "<style scoped>\n",
       "    .dataframe tbody tr th:only-of-type {\n",
       "        vertical-align: middle;\n",
       "    }\n",
       "\n",
       "    .dataframe tbody tr th {\n",
       "        vertical-align: top;\n",
       "    }\n",
       "\n",
       "    .dataframe thead th {\n",
       "        text-align: right;\n",
       "    }\n",
       "</style>\n",
       "<table border=\"1\" class=\"dataframe\">\n",
       "  <thead>\n",
       "    <tr style=\"text-align: right;\">\n",
       "      <th></th>\n",
       "      <th>A</th>\n",
       "      <th>B</th>\n",
       "      <th>C</th>\n",
       "      <th>D</th>\n",
       "    </tr>\n",
       "  </thead>\n",
       "  <tbody>\n",
       "    <tr>\n",
       "      <th>2013-01-31</th>\n",
       "      <td>0.708013</td>\n",
       "      <td>-0.004502</td>\n",
       "      <td>0.441911</td>\n",
       "      <td>0.945155</td>\n",
       "    </tr>\n",
       "    <tr>\n",
       "      <th>2013-02-28</th>\n",
       "      <td>0.072095</td>\n",
       "      <td>1.616562</td>\n",
       "      <td>-0.347967</td>\n",
       "      <td>-0.337045</td>\n",
       "    </tr>\n",
       "    <tr>\n",
       "      <th>2013-03-31</th>\n",
       "      <td>0.667359</td>\n",
       "      <td>1.392938</td>\n",
       "      <td>2.455543</td>\n",
       "      <td>-0.291956</td>\n",
       "    </tr>\n",
       "  </tbody>\n",
       "</table>\n",
       "</div>"
      ],
      "text/plain": [
       "                   A         B         C         D\n",
       "2013-01-31  0.708013 -0.004502  0.441911  0.945155\n",
       "2013-02-28  0.072095  1.616562 -0.347967 -0.337045\n",
       "2013-03-31  0.667359  1.392938  2.455543 -0.291956"
      ]
     },
     "execution_count": 32,
     "metadata": {
      "tags": []
     },
     "output_type": "execute_result"
    }
   ],
   "source": [
    "#Slicing rows\n",
    "df[0:3]"
   ]
  },
  {
   "cell_type": "markdown",
   "metadata": {
    "colab_type": "text",
    "id": "9x0FCNNnHiHX"
   },
   "source": [
    "## Selection by label"
   ]
  },
  {
   "cell_type": "code",
   "execution_count": 0,
   "metadata": {
    "colab": {
     "base_uri": "https://localhost:8080/",
     "height": 101
    },
    "colab_type": "code",
    "id": "aXfgFq-zHlje",
    "outputId": "821c8bf0-a6e3-4412-c491-1542f862b348"
   },
   "outputs": [
    {
     "data": {
      "text/plain": [
       "A    0.708013\n",
       "B   -0.004502\n",
       "C    0.441911\n",
       "D    0.945155\n",
       "Name: 2013-01-31 00:00:00, dtype: float64"
      ]
     },
     "execution_count": 33,
     "metadata": {
      "tags": []
     },
     "output_type": "execute_result"
    }
   ],
   "source": [
    "df.loc[dates[0]]"
   ]
  },
  {
   "cell_type": "code",
   "execution_count": 0,
   "metadata": {
    "colab": {
     "base_uri": "https://localhost:8080/",
     "height": 402
    },
    "colab_type": "code",
    "id": "ePPRUvIAHqft",
    "outputId": "f0a80b94-5be5-45af-faf1-dc2ea8941172"
   },
   "outputs": [
    {
     "data": {
      "text/html": [
       "<div>\n",
       "<style scoped>\n",
       "    .dataframe tbody tr th:only-of-type {\n",
       "        vertical-align: middle;\n",
       "    }\n",
       "\n",
       "    .dataframe tbody tr th {\n",
       "        vertical-align: top;\n",
       "    }\n",
       "\n",
       "    .dataframe thead th {\n",
       "        text-align: right;\n",
       "    }\n",
       "</style>\n",
       "<table border=\"1\" class=\"dataframe\">\n",
       "  <thead>\n",
       "    <tr style=\"text-align: right;\">\n",
       "      <th></th>\n",
       "      <th>A</th>\n",
       "      <th>B</th>\n",
       "    </tr>\n",
       "  </thead>\n",
       "  <tbody>\n",
       "    <tr>\n",
       "      <th>2013-01-31</th>\n",
       "      <td>0.708013</td>\n",
       "      <td>-0.004502</td>\n",
       "    </tr>\n",
       "    <tr>\n",
       "      <th>2013-02-28</th>\n",
       "      <td>0.072095</td>\n",
       "      <td>1.616562</td>\n",
       "    </tr>\n",
       "    <tr>\n",
       "      <th>2013-03-31</th>\n",
       "      <td>0.667359</td>\n",
       "      <td>1.392938</td>\n",
       "    </tr>\n",
       "    <tr>\n",
       "      <th>2013-04-30</th>\n",
       "      <td>1.749657</td>\n",
       "      <td>-0.749766</td>\n",
       "    </tr>\n",
       "    <tr>\n",
       "      <th>2013-05-31</th>\n",
       "      <td>0.957102</td>\n",
       "      <td>0.192933</td>\n",
       "    </tr>\n",
       "    <tr>\n",
       "      <th>2013-06-30</th>\n",
       "      <td>0.024835</td>\n",
       "      <td>0.746146</td>\n",
       "    </tr>\n",
       "    <tr>\n",
       "      <th>2013-07-31</th>\n",
       "      <td>2.668856</td>\n",
       "      <td>-0.519759</td>\n",
       "    </tr>\n",
       "    <tr>\n",
       "      <th>2013-08-31</th>\n",
       "      <td>0.664134</td>\n",
       "      <td>1.488608</td>\n",
       "    </tr>\n",
       "    <tr>\n",
       "      <th>2013-09-30</th>\n",
       "      <td>-0.195505</td>\n",
       "      <td>-0.972930</td>\n",
       "    </tr>\n",
       "    <tr>\n",
       "      <th>2013-10-31</th>\n",
       "      <td>-0.638550</td>\n",
       "      <td>-1.063592</td>\n",
       "    </tr>\n",
       "    <tr>\n",
       "      <th>2013-11-30</th>\n",
       "      <td>-1.030374</td>\n",
       "      <td>0.425851</td>\n",
       "    </tr>\n",
       "    <tr>\n",
       "      <th>2013-12-31</th>\n",
       "      <td>0.161653</td>\n",
       "      <td>-0.843938</td>\n",
       "    </tr>\n",
       "  </tbody>\n",
       "</table>\n",
       "</div>"
      ],
      "text/plain": [
       "                   A         B\n",
       "2013-01-31  0.708013 -0.004502\n",
       "2013-02-28  0.072095  1.616562\n",
       "2013-03-31  0.667359  1.392938\n",
       "2013-04-30  1.749657 -0.749766\n",
       "2013-05-31  0.957102  0.192933\n",
       "2013-06-30  0.024835  0.746146\n",
       "2013-07-31  2.668856 -0.519759\n",
       "2013-08-31  0.664134  1.488608\n",
       "2013-09-30 -0.195505 -0.972930\n",
       "2013-10-31 -0.638550 -1.063592\n",
       "2013-11-30 -1.030374  0.425851\n",
       "2013-12-31  0.161653 -0.843938"
      ]
     },
     "execution_count": 34,
     "metadata": {
      "tags": []
     },
     "output_type": "execute_result"
    }
   ],
   "source": [
    "#Multi-axis label selection\n",
    "df.loc[:, [\"A\", \"B\"]]"
   ]
  },
  {
   "cell_type": "code",
   "execution_count": 0,
   "metadata": {
    "colab": {
     "base_uri": "https://localhost:8080/",
     "height": 136
    },
    "colab_type": "code",
    "id": "u-q1X0SFHyd_",
    "outputId": "dd68207f-1e4e-48d5-f3d2-cbf14ebdd915"
   },
   "outputs": [
    {
     "data": {
      "text/html": [
       "<div>\n",
       "<style scoped>\n",
       "    .dataframe tbody tr th:only-of-type {\n",
       "        vertical-align: middle;\n",
       "    }\n",
       "\n",
       "    .dataframe tbody tr th {\n",
       "        vertical-align: top;\n",
       "    }\n",
       "\n",
       "    .dataframe thead th {\n",
       "        text-align: right;\n",
       "    }\n",
       "</style>\n",
       "<table border=\"1\" class=\"dataframe\">\n",
       "  <thead>\n",
       "    <tr style=\"text-align: right;\">\n",
       "      <th></th>\n",
       "      <th>A</th>\n",
       "      <th>B</th>\n",
       "    </tr>\n",
       "  </thead>\n",
       "  <tbody>\n",
       "    <tr>\n",
       "      <th>2013-02-28</th>\n",
       "      <td>0.072095</td>\n",
       "      <td>1.616562</td>\n",
       "    </tr>\n",
       "    <tr>\n",
       "      <th>2013-03-31</th>\n",
       "      <td>0.667359</td>\n",
       "      <td>1.392938</td>\n",
       "    </tr>\n",
       "    <tr>\n",
       "      <th>2013-04-30</th>\n",
       "      <td>1.749657</td>\n",
       "      <td>-0.749766</td>\n",
       "    </tr>\n",
       "  </tbody>\n",
       "</table>\n",
       "</div>"
      ],
      "text/plain": [
       "                   A         B\n",
       "2013-02-28  0.072095  1.616562\n",
       "2013-03-31  0.667359  1.392938\n",
       "2013-04-30  1.749657 -0.749766"
      ]
     },
     "execution_count": 38,
     "metadata": {
      "tags": []
     },
     "output_type": "execute_result"
    }
   ],
   "source": [
    "df.loc[\"20130201\":\"20130501\", [\"A\", \"B\"]]"
   ]
  },
  {
   "cell_type": "code",
   "execution_count": 0,
   "metadata": {
    "colab": {
     "base_uri": "https://localhost:8080/",
     "height": 34
    },
    "colab_type": "code",
    "id": "OZW_-VasIGU_",
    "outputId": "d2120133-7578-446b-fc1b-1affc65bfbb5"
   },
   "outputs": [
    {
     "data": {
      "text/plain": [
       "0.7080128039393773"
      ]
     },
     "execution_count": 41,
     "metadata": {
      "tags": []
     },
     "output_type": "execute_result"
    }
   ],
   "source": [
    "#Getting specific data point(scalar)\n",
    "df.loc[dates[0], \"A\"]"
   ]
  },
  {
   "cell_type": "code",
   "execution_count": 0,
   "metadata": {
    "colab": {
     "base_uri": "https://localhost:8080/",
     "height": 34
    },
    "colab_type": "code",
    "id": "KDFAr4szIrMO",
    "outputId": "7d4961ce-43c2-4a59-dddf-8f94a8be2d29"
   },
   "outputs": [
    {
     "data": {
      "text/plain": [
       "0.7080128039393773"
      ]
     },
     "execution_count": 42,
     "metadata": {
      "tags": []
     },
     "output_type": "execute_result"
    }
   ],
   "source": [
    "#Fast access to scalar (equivalent to the previous method)\n",
    "df.at[dates[0], \"A\"]"
   ]
  },
  {
   "cell_type": "markdown",
   "metadata": {
    "colab_type": "text",
    "id": "5Tthlf3qI0VB"
   },
   "source": [
    "## Selection by position"
   ]
  },
  {
   "cell_type": "code",
   "execution_count": 0,
   "metadata": {
    "colab": {
     "base_uri": "https://localhost:8080/",
     "height": 101
    },
    "colab_type": "code",
    "id": "Uwm-6UWUI2W-",
    "outputId": "fea4bc35-a5b2-4536-9eb7-577b80442d03"
   },
   "outputs": [
    {
     "data": {
      "text/plain": [
       "A    1.749657\n",
       "B   -0.749766\n",
       "C   -0.652762\n",
       "D    2.050782\n",
       "Name: 2013-04-30 00:00:00, dtype: float64"
      ]
     },
     "execution_count": 43,
     "metadata": {
      "tags": []
     },
     "output_type": "execute_result"
    }
   ],
   "source": [
    "#Select via the position of the passed integers (position in Series)\n",
    "df.iloc[3]"
   ]
  },
  {
   "cell_type": "code",
   "execution_count": 0,
   "metadata": {
    "colab": {
     "base_uri": "https://localhost:8080/",
     "height": 106
    },
    "colab_type": "code",
    "id": "6obcauiCJKaG",
    "outputId": "3bcc8b73-a897-4623-ce97-fa288ba0a56c"
   },
   "outputs": [
    {
     "data": {
      "text/html": [
       "<div>\n",
       "<style scoped>\n",
       "    .dataframe tbody tr th:only-of-type {\n",
       "        vertical-align: middle;\n",
       "    }\n",
       "\n",
       "    .dataframe tbody tr th {\n",
       "        vertical-align: top;\n",
       "    }\n",
       "\n",
       "    .dataframe thead th {\n",
       "        text-align: right;\n",
       "    }\n",
       "</style>\n",
       "<table border=\"1\" class=\"dataframe\">\n",
       "  <thead>\n",
       "    <tr style=\"text-align: right;\">\n",
       "      <th></th>\n",
       "      <th>A</th>\n",
       "      <th>B</th>\n",
       "    </tr>\n",
       "  </thead>\n",
       "  <tbody>\n",
       "    <tr>\n",
       "      <th>2013-04-30</th>\n",
       "      <td>1.749657</td>\n",
       "      <td>-0.749766</td>\n",
       "    </tr>\n",
       "    <tr>\n",
       "      <th>2013-05-31</th>\n",
       "      <td>0.957102</td>\n",
       "      <td>0.192933</td>\n",
       "    </tr>\n",
       "  </tbody>\n",
       "</table>\n",
       "</div>"
      ],
      "text/plain": [
       "                   A         B\n",
       "2013-04-30  1.749657 -0.749766\n",
       "2013-05-31  0.957102  0.192933"
      ]
     },
     "execution_count": 44,
     "metadata": {
      "tags": []
     },
     "output_type": "execute_result"
    }
   ],
   "source": [
    "df.iloc[3:5, 0:2]"
   ]
  },
  {
   "cell_type": "code",
   "execution_count": 0,
   "metadata": {
    "colab": {
     "base_uri": "https://localhost:8080/",
     "height": 136
    },
    "colab_type": "code",
    "id": "C5KqMaKWJPkN",
    "outputId": "5dfa19aa-9774-4605-f8de-24dc2e6198a2"
   },
   "outputs": [
    {
     "data": {
      "text/html": [
       "<div>\n",
       "<style scoped>\n",
       "    .dataframe tbody tr th:only-of-type {\n",
       "        vertical-align: middle;\n",
       "    }\n",
       "\n",
       "    .dataframe tbody tr th {\n",
       "        vertical-align: top;\n",
       "    }\n",
       "\n",
       "    .dataframe thead th {\n",
       "        text-align: right;\n",
       "    }\n",
       "</style>\n",
       "<table border=\"1\" class=\"dataframe\">\n",
       "  <thead>\n",
       "    <tr style=\"text-align: right;\">\n",
       "      <th></th>\n",
       "      <th>A</th>\n",
       "      <th>C</th>\n",
       "    </tr>\n",
       "  </thead>\n",
       "  <tbody>\n",
       "    <tr>\n",
       "      <th>2013-02-28</th>\n",
       "      <td>0.072095</td>\n",
       "      <td>-0.347967</td>\n",
       "    </tr>\n",
       "    <tr>\n",
       "      <th>2013-03-31</th>\n",
       "      <td>0.667359</td>\n",
       "      <td>2.455543</td>\n",
       "    </tr>\n",
       "    <tr>\n",
       "      <th>2013-05-31</th>\n",
       "      <td>0.957102</td>\n",
       "      <td>0.321934</td>\n",
       "    </tr>\n",
       "  </tbody>\n",
       "</table>\n",
       "</div>"
      ],
      "text/plain": [
       "                   A         C\n",
       "2013-02-28  0.072095 -0.347967\n",
       "2013-03-31  0.667359  2.455543\n",
       "2013-05-31  0.957102  0.321934"
      ]
     },
     "execution_count": 45,
     "metadata": {
      "tags": []
     },
     "output_type": "execute_result"
    }
   ],
   "source": [
    "#Array-like positions\n",
    "df.iloc[[1, 2, 4], [0, 2]]"
   ]
  },
  {
   "cell_type": "code",
   "execution_count": 0,
   "metadata": {
    "colab": {
     "base_uri": "https://localhost:8080/",
     "height": 106
    },
    "colab_type": "code",
    "id": "cz5m7Qs7JY4u",
    "outputId": "d7bc29c9-7de5-40e0-ddcf-e0e9e4e37e66"
   },
   "outputs": [
    {
     "data": {
      "text/html": [
       "<div>\n",
       "<style scoped>\n",
       "    .dataframe tbody tr th:only-of-type {\n",
       "        vertical-align: middle;\n",
       "    }\n",
       "\n",
       "    .dataframe tbody tr th {\n",
       "        vertical-align: top;\n",
       "    }\n",
       "\n",
       "    .dataframe thead th {\n",
       "        text-align: right;\n",
       "    }\n",
       "</style>\n",
       "<table border=\"1\" class=\"dataframe\">\n",
       "  <thead>\n",
       "    <tr style=\"text-align: right;\">\n",
       "      <th></th>\n",
       "      <th>A</th>\n",
       "      <th>B</th>\n",
       "      <th>C</th>\n",
       "      <th>D</th>\n",
       "    </tr>\n",
       "  </thead>\n",
       "  <tbody>\n",
       "    <tr>\n",
       "      <th>2013-02-28</th>\n",
       "      <td>0.072095</td>\n",
       "      <td>1.616562</td>\n",
       "      <td>-0.347967</td>\n",
       "      <td>-0.337045</td>\n",
       "    </tr>\n",
       "    <tr>\n",
       "      <th>2013-03-31</th>\n",
       "      <td>0.667359</td>\n",
       "      <td>1.392938</td>\n",
       "      <td>2.455543</td>\n",
       "      <td>-0.291956</td>\n",
       "    </tr>\n",
       "  </tbody>\n",
       "</table>\n",
       "</div>"
      ],
      "text/plain": [
       "                   A         B         C         D\n",
       "2013-02-28  0.072095  1.616562 -0.347967 -0.337045\n",
       "2013-03-31  0.667359  1.392938  2.455543 -0.291956"
      ]
     },
     "execution_count": 46,
     "metadata": {
      "tags": []
     },
     "output_type": "execute_result"
    }
   ],
   "source": [
    "#Slicing specific rows\n",
    "df.iloc[1:3, :]"
   ]
  },
  {
   "cell_type": "code",
   "execution_count": 0,
   "metadata": {
    "colab": {
     "base_uri": "https://localhost:8080/",
     "height": 402
    },
    "colab_type": "code",
    "id": "TplDM1owJgMO",
    "outputId": "ffa3cf5e-5c53-4408-d86d-d9d4ec38e090"
   },
   "outputs": [
    {
     "data": {
      "text/html": [
       "<div>\n",
       "<style scoped>\n",
       "    .dataframe tbody tr th:only-of-type {\n",
       "        vertical-align: middle;\n",
       "    }\n",
       "\n",
       "    .dataframe tbody tr th {\n",
       "        vertical-align: top;\n",
       "    }\n",
       "\n",
       "    .dataframe thead th {\n",
       "        text-align: right;\n",
       "    }\n",
       "</style>\n",
       "<table border=\"1\" class=\"dataframe\">\n",
       "  <thead>\n",
       "    <tr style=\"text-align: right;\">\n",
       "      <th></th>\n",
       "      <th>B</th>\n",
       "      <th>C</th>\n",
       "    </tr>\n",
       "  </thead>\n",
       "  <tbody>\n",
       "    <tr>\n",
       "      <th>2013-01-31</th>\n",
       "      <td>-0.004502</td>\n",
       "      <td>0.441911</td>\n",
       "    </tr>\n",
       "    <tr>\n",
       "      <th>2013-02-28</th>\n",
       "      <td>1.616562</td>\n",
       "      <td>-0.347967</td>\n",
       "    </tr>\n",
       "    <tr>\n",
       "      <th>2013-03-31</th>\n",
       "      <td>1.392938</td>\n",
       "      <td>2.455543</td>\n",
       "    </tr>\n",
       "    <tr>\n",
       "      <th>2013-04-30</th>\n",
       "      <td>-0.749766</td>\n",
       "      <td>-0.652762</td>\n",
       "    </tr>\n",
       "    <tr>\n",
       "      <th>2013-05-31</th>\n",
       "      <td>0.192933</td>\n",
       "      <td>0.321934</td>\n",
       "    </tr>\n",
       "    <tr>\n",
       "      <th>2013-06-30</th>\n",
       "      <td>0.746146</td>\n",
       "      <td>0.856928</td>\n",
       "    </tr>\n",
       "    <tr>\n",
       "      <th>2013-07-31</th>\n",
       "      <td>-0.519759</td>\n",
       "      <td>-1.396908</td>\n",
       "    </tr>\n",
       "    <tr>\n",
       "      <th>2013-08-31</th>\n",
       "      <td>1.488608</td>\n",
       "      <td>0.875024</td>\n",
       "    </tr>\n",
       "    <tr>\n",
       "      <th>2013-09-30</th>\n",
       "      <td>-0.972930</td>\n",
       "      <td>-0.079203</td>\n",
       "    </tr>\n",
       "    <tr>\n",
       "      <th>2013-10-31</th>\n",
       "      <td>-1.063592</td>\n",
       "      <td>-0.328096</td>\n",
       "    </tr>\n",
       "    <tr>\n",
       "      <th>2013-11-30</th>\n",
       "      <td>0.425851</td>\n",
       "      <td>0.168814</td>\n",
       "    </tr>\n",
       "    <tr>\n",
       "      <th>2013-12-31</th>\n",
       "      <td>-0.843938</td>\n",
       "      <td>0.311525</td>\n",
       "    </tr>\n",
       "  </tbody>\n",
       "</table>\n",
       "</div>"
      ],
      "text/plain": [
       "                   B         C\n",
       "2013-01-31 -0.004502  0.441911\n",
       "2013-02-28  1.616562 -0.347967\n",
       "2013-03-31  1.392938  2.455543\n",
       "2013-04-30 -0.749766 -0.652762\n",
       "2013-05-31  0.192933  0.321934\n",
       "2013-06-30  0.746146  0.856928\n",
       "2013-07-31 -0.519759 -1.396908\n",
       "2013-08-31  1.488608  0.875024\n",
       "2013-09-30 -0.972930 -0.079203\n",
       "2013-10-31 -1.063592 -0.328096\n",
       "2013-11-30  0.425851  0.168814\n",
       "2013-12-31 -0.843938  0.311525"
      ]
     },
     "execution_count": 48,
     "metadata": {
      "tags": []
     },
     "output_type": "execute_result"
    }
   ],
   "source": [
    "#Slicing specific columns\n",
    "df.iloc[:, 1:3]"
   ]
  },
  {
   "cell_type": "code",
   "execution_count": 0,
   "metadata": {
    "colab": {
     "base_uri": "https://localhost:8080/",
     "height": 34
    },
    "colab_type": "code",
    "id": "xpHULF-nJm-I",
    "outputId": "98774a1e-5a3a-412a-d5bc-7286634ec4f0"
   },
   "outputs": [
    {
     "data": {
      "text/plain": [
       "1.616561796297109"
      ]
     },
     "execution_count": 49,
     "metadata": {
      "tags": []
     },
     "output_type": "execute_result"
    }
   ],
   "source": [
    "#Specific value\n",
    "df.iloc[1, 1]"
   ]
  },
  {
   "cell_type": "code",
   "execution_count": 0,
   "metadata": {
    "colab": {
     "base_uri": "https://localhost:8080/",
     "height": 34
    },
    "colab_type": "code",
    "id": "2zDq2KAhJsBf",
    "outputId": "9e8d7cc5-0ef8-48d9-90a5-797c2bb675ab"
   },
   "outputs": [
    {
     "data": {
      "text/plain": [
       "1.616561796297109"
      ]
     },
     "execution_count": 50,
     "metadata": {
      "tags": []
     },
     "output_type": "execute_result"
    }
   ],
   "source": [
    "#Fast access\n",
    "df.iat[1, 1]"
   ]
  },
  {
   "cell_type": "markdown",
   "metadata": {
    "colab_type": "text",
    "id": "F8Ro_DJuJ235"
   },
   "source": [
    "## Boolean indexing"
   ]
  },
  {
   "cell_type": "code",
   "execution_count": 0,
   "metadata": {
    "colab": {
     "base_uri": "https://localhost:8080/",
     "height": 314
    },
    "colab_type": "code",
    "id": "z2a1aC58J4tA",
    "outputId": "da726da1-b988-43a0-d9b8-f24d2b79a353"
   },
   "outputs": [
    {
     "data": {
      "text/html": [
       "<div>\n",
       "<style scoped>\n",
       "    .dataframe tbody tr th:only-of-type {\n",
       "        vertical-align: middle;\n",
       "    }\n",
       "\n",
       "    .dataframe tbody tr th {\n",
       "        vertical-align: top;\n",
       "    }\n",
       "\n",
       "    .dataframe thead th {\n",
       "        text-align: right;\n",
       "    }\n",
       "</style>\n",
       "<table border=\"1\" class=\"dataframe\">\n",
       "  <thead>\n",
       "    <tr style=\"text-align: right;\">\n",
       "      <th></th>\n",
       "      <th>A</th>\n",
       "      <th>B</th>\n",
       "      <th>C</th>\n",
       "      <th>D</th>\n",
       "    </tr>\n",
       "  </thead>\n",
       "  <tbody>\n",
       "    <tr>\n",
       "      <th>2013-01-31</th>\n",
       "      <td>0.708013</td>\n",
       "      <td>-0.004502</td>\n",
       "      <td>0.441911</td>\n",
       "      <td>0.945155</td>\n",
       "    </tr>\n",
       "    <tr>\n",
       "      <th>2013-02-28</th>\n",
       "      <td>0.072095</td>\n",
       "      <td>1.616562</td>\n",
       "      <td>-0.347967</td>\n",
       "      <td>-0.337045</td>\n",
       "    </tr>\n",
       "    <tr>\n",
       "      <th>2013-03-31</th>\n",
       "      <td>0.667359</td>\n",
       "      <td>1.392938</td>\n",
       "      <td>2.455543</td>\n",
       "      <td>-0.291956</td>\n",
       "    </tr>\n",
       "    <tr>\n",
       "      <th>2013-04-30</th>\n",
       "      <td>1.749657</td>\n",
       "      <td>-0.749766</td>\n",
       "      <td>-0.652762</td>\n",
       "      <td>2.050782</td>\n",
       "    </tr>\n",
       "    <tr>\n",
       "      <th>2013-05-31</th>\n",
       "      <td>0.957102</td>\n",
       "      <td>0.192933</td>\n",
       "      <td>0.321934</td>\n",
       "      <td>0.520162</td>\n",
       "    </tr>\n",
       "    <tr>\n",
       "      <th>2013-06-30</th>\n",
       "      <td>0.024835</td>\n",
       "      <td>0.746146</td>\n",
       "      <td>0.856928</td>\n",
       "      <td>-0.628672</td>\n",
       "    </tr>\n",
       "    <tr>\n",
       "      <th>2013-07-31</th>\n",
       "      <td>2.668856</td>\n",
       "      <td>-0.519759</td>\n",
       "      <td>-1.396908</td>\n",
       "      <td>-0.226528</td>\n",
       "    </tr>\n",
       "    <tr>\n",
       "      <th>2013-08-31</th>\n",
       "      <td>0.664134</td>\n",
       "      <td>1.488608</td>\n",
       "      <td>0.875024</td>\n",
       "      <td>0.384178</td>\n",
       "    </tr>\n",
       "    <tr>\n",
       "      <th>2013-12-31</th>\n",
       "      <td>0.161653</td>\n",
       "      <td>-0.843938</td>\n",
       "      <td>0.311525</td>\n",
       "      <td>0.136695</td>\n",
       "    </tr>\n",
       "  </tbody>\n",
       "</table>\n",
       "</div>"
      ],
      "text/plain": [
       "                   A         B         C         D\n",
       "2013-01-31  0.708013 -0.004502  0.441911  0.945155\n",
       "2013-02-28  0.072095  1.616562 -0.347967 -0.337045\n",
       "2013-03-31  0.667359  1.392938  2.455543 -0.291956\n",
       "2013-04-30  1.749657 -0.749766 -0.652762  2.050782\n",
       "2013-05-31  0.957102  0.192933  0.321934  0.520162\n",
       "2013-06-30  0.024835  0.746146  0.856928 -0.628672\n",
       "2013-07-31  2.668856 -0.519759 -1.396908 -0.226528\n",
       "2013-08-31  0.664134  1.488608  0.875024  0.384178\n",
       "2013-12-31  0.161653 -0.843938  0.311525  0.136695"
      ]
     },
     "execution_count": 51,
     "metadata": {
      "tags": []
     },
     "output_type": "execute_result"
    }
   ],
   "source": [
    "#Using a single column's values to select data\n",
    "df[df.A > 0] #Only positive integers in A"
   ]
  },
  {
   "cell_type": "code",
   "execution_count": 0,
   "metadata": {
    "colab": {
     "base_uri": "https://localhost:8080/",
     "height": 402
    },
    "colab_type": "code",
    "id": "nhAWFIcPKEWm",
    "outputId": "d110bf6b-61c1-41ad-d812-ec4ce9117eaf"
   },
   "outputs": [
    {
     "data": {
      "text/html": [
       "<div>\n",
       "<style scoped>\n",
       "    .dataframe tbody tr th:only-of-type {\n",
       "        vertical-align: middle;\n",
       "    }\n",
       "\n",
       "    .dataframe tbody tr th {\n",
       "        vertical-align: top;\n",
       "    }\n",
       "\n",
       "    .dataframe thead th {\n",
       "        text-align: right;\n",
       "    }\n",
       "</style>\n",
       "<table border=\"1\" class=\"dataframe\">\n",
       "  <thead>\n",
       "    <tr style=\"text-align: right;\">\n",
       "      <th></th>\n",
       "      <th>A</th>\n",
       "      <th>B</th>\n",
       "      <th>C</th>\n",
       "      <th>D</th>\n",
       "    </tr>\n",
       "  </thead>\n",
       "  <tbody>\n",
       "    <tr>\n",
       "      <th>2013-01-31</th>\n",
       "      <td>0.708013</td>\n",
       "      <td>NaN</td>\n",
       "      <td>0.441911</td>\n",
       "      <td>0.945155</td>\n",
       "    </tr>\n",
       "    <tr>\n",
       "      <th>2013-02-28</th>\n",
       "      <td>0.072095</td>\n",
       "      <td>1.616562</td>\n",
       "      <td>NaN</td>\n",
       "      <td>NaN</td>\n",
       "    </tr>\n",
       "    <tr>\n",
       "      <th>2013-03-31</th>\n",
       "      <td>0.667359</td>\n",
       "      <td>1.392938</td>\n",
       "      <td>2.455543</td>\n",
       "      <td>NaN</td>\n",
       "    </tr>\n",
       "    <tr>\n",
       "      <th>2013-04-30</th>\n",
       "      <td>1.749657</td>\n",
       "      <td>NaN</td>\n",
       "      <td>NaN</td>\n",
       "      <td>2.050782</td>\n",
       "    </tr>\n",
       "    <tr>\n",
       "      <th>2013-05-31</th>\n",
       "      <td>0.957102</td>\n",
       "      <td>0.192933</td>\n",
       "      <td>0.321934</td>\n",
       "      <td>0.520162</td>\n",
       "    </tr>\n",
       "    <tr>\n",
       "      <th>2013-06-30</th>\n",
       "      <td>0.024835</td>\n",
       "      <td>0.746146</td>\n",
       "      <td>0.856928</td>\n",
       "      <td>NaN</td>\n",
       "    </tr>\n",
       "    <tr>\n",
       "      <th>2013-07-31</th>\n",
       "      <td>2.668856</td>\n",
       "      <td>NaN</td>\n",
       "      <td>NaN</td>\n",
       "      <td>NaN</td>\n",
       "    </tr>\n",
       "    <tr>\n",
       "      <th>2013-08-31</th>\n",
       "      <td>0.664134</td>\n",
       "      <td>1.488608</td>\n",
       "      <td>0.875024</td>\n",
       "      <td>0.384178</td>\n",
       "    </tr>\n",
       "    <tr>\n",
       "      <th>2013-09-30</th>\n",
       "      <td>NaN</td>\n",
       "      <td>NaN</td>\n",
       "      <td>NaN</td>\n",
       "      <td>1.039312</td>\n",
       "    </tr>\n",
       "    <tr>\n",
       "      <th>2013-10-31</th>\n",
       "      <td>NaN</td>\n",
       "      <td>NaN</td>\n",
       "      <td>NaN</td>\n",
       "      <td>0.738510</td>\n",
       "    </tr>\n",
       "    <tr>\n",
       "      <th>2013-11-30</th>\n",
       "      <td>NaN</td>\n",
       "      <td>0.425851</td>\n",
       "      <td>0.168814</td>\n",
       "      <td>0.106634</td>\n",
       "    </tr>\n",
       "    <tr>\n",
       "      <th>2013-12-31</th>\n",
       "      <td>0.161653</td>\n",
       "      <td>NaN</td>\n",
       "      <td>0.311525</td>\n",
       "      <td>0.136695</td>\n",
       "    </tr>\n",
       "  </tbody>\n",
       "</table>\n",
       "</div>"
      ],
      "text/plain": [
       "                   A         B         C         D\n",
       "2013-01-31  0.708013       NaN  0.441911  0.945155\n",
       "2013-02-28  0.072095  1.616562       NaN       NaN\n",
       "2013-03-31  0.667359  1.392938  2.455543       NaN\n",
       "2013-04-30  1.749657       NaN       NaN  2.050782\n",
       "2013-05-31  0.957102  0.192933  0.321934  0.520162\n",
       "2013-06-30  0.024835  0.746146  0.856928       NaN\n",
       "2013-07-31  2.668856       NaN       NaN       NaN\n",
       "2013-08-31  0.664134  1.488608  0.875024  0.384178\n",
       "2013-09-30       NaN       NaN       NaN  1.039312\n",
       "2013-10-31       NaN       NaN       NaN  0.738510\n",
       "2013-11-30       NaN  0.425851  0.168814  0.106634\n",
       "2013-12-31  0.161653       NaN  0.311525  0.136695"
      ]
     },
     "execution_count": 52,
     "metadata": {
      "tags": []
     },
     "output_type": "execute_result"
    }
   ],
   "source": [
    "df[df > 0]"
   ]
  },
  {
   "cell_type": "code",
   "execution_count": 0,
   "metadata": {
    "colab": {
     "base_uri": "https://localhost:8080/",
     "height": 325
    },
    "colab_type": "code",
    "id": "wL5Rbe4XKKgA",
    "outputId": "2c55f7f6-60b8-4d31-c92d-9093d682e429"
   },
   "outputs": [
    {
     "name": "stdout",
     "output_type": "stream",
     "text": [
      "                   A         B         C         D      E\n",
      "2013-01-31  0.708013 -0.004502  0.441911  0.945155    one\n",
      "2013-02-28  0.072095  1.616562 -0.347967 -0.337045    two\n",
      "2013-03-31  0.667359  1.392938  2.455543 -0.291956  three\n",
      "2013-04-30  1.749657 -0.749766 -0.652762  2.050782   four\n",
      "2013-05-31  0.957102  0.192933  0.321934  0.520162  three\n",
      "2013-06-30  0.024835  0.746146  0.856928 -0.628672    six\n",
      "2013-07-31  2.668856 -0.519759 -1.396908 -0.226528   five\n",
      "2013-08-31  0.664134  1.488608  0.875024  0.384178  eight\n",
      "2013-09-30 -0.195505 -0.972930 -0.079203  1.039312   nine\n",
      "2013-10-31 -0.638550 -1.063592 -0.328096  0.738510    one\n",
      "2013-11-30 -1.030374  0.425851  0.168814  0.106634    one\n",
      "2013-12-31  0.161653 -0.843938  0.311525  0.136695    one\n"
     ]
    },
    {
     "data": {
      "text/html": [
       "<div>\n",
       "<style scoped>\n",
       "    .dataframe tbody tr th:only-of-type {\n",
       "        vertical-align: middle;\n",
       "    }\n",
       "\n",
       "    .dataframe tbody tr th {\n",
       "        vertical-align: top;\n",
       "    }\n",
       "\n",
       "    .dataframe thead th {\n",
       "        text-align: right;\n",
       "    }\n",
       "</style>\n",
       "<table border=\"1\" class=\"dataframe\">\n",
       "  <thead>\n",
       "    <tr style=\"text-align: right;\">\n",
       "      <th></th>\n",
       "      <th>A</th>\n",
       "      <th>B</th>\n",
       "      <th>C</th>\n",
       "      <th>D</th>\n",
       "    </tr>\n",
       "  </thead>\n",
       "  <tbody>\n",
       "    <tr>\n",
       "      <th>2013-02-28</th>\n",
       "      <td>0.072095</td>\n",
       "      <td>1.616562</td>\n",
       "      <td>-0.347967</td>\n",
       "      <td>-0.337045</td>\n",
       "    </tr>\n",
       "    <tr>\n",
       "      <th>2013-04-30</th>\n",
       "      <td>1.749657</td>\n",
       "      <td>-0.749766</td>\n",
       "      <td>-0.652762</td>\n",
       "      <td>2.050782</td>\n",
       "    </tr>\n",
       "  </tbody>\n",
       "</table>\n",
       "</div>"
      ],
      "text/plain": [
       "                   A         B         C         D\n",
       "2013-02-28  0.072095  1.616562 -0.347967 -0.337045\n",
       "2013-04-30  1.749657 -0.749766 -0.652762  2.050782"
      ]
     },
     "execution_count": 56,
     "metadata": {
      "tags": []
     },
     "output_type": "execute_result"
    }
   ],
   "source": [
    "#Using isin() for filtering\n",
    "df2 = df.copy()\n",
    "df2[\"E\"] = [\"one\", \"two\", \"three\", \"four\", \"three\", \"six\", \"five\", \"eight\" , \"nine\", \"one\", \"one\", \"one\"]\n",
    "print(df2)\n",
    "df[df2[\"E\"].isin([\"two\", \"four\"])]"
   ]
  },
  {
   "cell_type": "markdown",
   "metadata": {
    "colab_type": "text",
    "id": "JB3P4n_tKwug"
   },
   "source": [
    "## Setting"
   ]
  },
  {
   "cell_type": "code",
   "execution_count": 0,
   "metadata": {
    "colab": {
     "base_uri": "https://localhost:8080/",
     "height": 235
    },
    "colab_type": "code",
    "id": "PDUgHgfwK2JB",
    "outputId": "1e998797-355b-4f7e-f890-fb420ccf3a4f"
   },
   "outputs": [
    {
     "data": {
      "text/plain": [
       "2013-01-31     1\n",
       "2013-02-28     2\n",
       "2013-03-31     3\n",
       "2013-04-30     4\n",
       "2013-05-31     5\n",
       "2013-06-30     6\n",
       "2013-07-31     7\n",
       "2013-08-31     8\n",
       "2013-09-30     9\n",
       "2013-10-31    10\n",
       "2013-11-30    11\n",
       "2013-12-31    12\n",
       "Freq: M, dtype: int64"
      ]
     },
     "execution_count": 69,
     "metadata": {
      "tags": []
     },
     "output_type": "execute_result"
    }
   ],
   "source": [
    "#Setting a new column automatically aligns the data by the indexes\n",
    "s1 = pd.Series([1, 2, 3, 4, 5, 6, 7, 8, 9, 10, 11, 12], index=dates)\n",
    "s1"
   ]
  },
  {
   "cell_type": "code",
   "execution_count": 0,
   "metadata": {
    "colab": {
     "base_uri": "https://localhost:8080/",
     "height": 402
    },
    "colab_type": "code",
    "id": "MbXINd6JLkeo",
    "outputId": "02cb4c67-2ddc-438b-bd02-88065a430776"
   },
   "outputs": [
    {
     "data": {
      "text/html": [
       "<div>\n",
       "<style scoped>\n",
       "    .dataframe tbody tr th:only-of-type {\n",
       "        vertical-align: middle;\n",
       "    }\n",
       "\n",
       "    .dataframe tbody tr th {\n",
       "        vertical-align: top;\n",
       "    }\n",
       "\n",
       "    .dataframe thead th {\n",
       "        text-align: right;\n",
       "    }\n",
       "</style>\n",
       "<table border=\"1\" class=\"dataframe\">\n",
       "  <thead>\n",
       "    <tr style=\"text-align: right;\">\n",
       "      <th></th>\n",
       "      <th>A</th>\n",
       "      <th>B</th>\n",
       "      <th>C</th>\n",
       "      <th>D</th>\n",
       "      <th>F</th>\n",
       "    </tr>\n",
       "  </thead>\n",
       "  <tbody>\n",
       "    <tr>\n",
       "      <th>2013-01-31</th>\n",
       "      <td>0.708013</td>\n",
       "      <td>-0.004502</td>\n",
       "      <td>0.441911</td>\n",
       "      <td>0.945155</td>\n",
       "      <td>1</td>\n",
       "    </tr>\n",
       "    <tr>\n",
       "      <th>2013-02-28</th>\n",
       "      <td>0.072095</td>\n",
       "      <td>1.616562</td>\n",
       "      <td>-0.347967</td>\n",
       "      <td>-0.337045</td>\n",
       "      <td>2</td>\n",
       "    </tr>\n",
       "    <tr>\n",
       "      <th>2013-03-31</th>\n",
       "      <td>0.667359</td>\n",
       "      <td>1.392938</td>\n",
       "      <td>2.455543</td>\n",
       "      <td>-0.291956</td>\n",
       "      <td>3</td>\n",
       "    </tr>\n",
       "    <tr>\n",
       "      <th>2013-04-30</th>\n",
       "      <td>1.749657</td>\n",
       "      <td>-0.749766</td>\n",
       "      <td>-0.652762</td>\n",
       "      <td>2.050782</td>\n",
       "      <td>4</td>\n",
       "    </tr>\n",
       "    <tr>\n",
       "      <th>2013-05-31</th>\n",
       "      <td>0.957102</td>\n",
       "      <td>0.192933</td>\n",
       "      <td>0.321934</td>\n",
       "      <td>0.520162</td>\n",
       "      <td>5</td>\n",
       "    </tr>\n",
       "    <tr>\n",
       "      <th>2013-06-30</th>\n",
       "      <td>0.024835</td>\n",
       "      <td>0.746146</td>\n",
       "      <td>0.856928</td>\n",
       "      <td>-0.628672</td>\n",
       "      <td>6</td>\n",
       "    </tr>\n",
       "    <tr>\n",
       "      <th>2013-07-31</th>\n",
       "      <td>2.668856</td>\n",
       "      <td>-0.519759</td>\n",
       "      <td>-1.396908</td>\n",
       "      <td>-0.226528</td>\n",
       "      <td>7</td>\n",
       "    </tr>\n",
       "    <tr>\n",
       "      <th>2013-08-31</th>\n",
       "      <td>0.664134</td>\n",
       "      <td>1.488608</td>\n",
       "      <td>0.875024</td>\n",
       "      <td>0.384178</td>\n",
       "      <td>8</td>\n",
       "    </tr>\n",
       "    <tr>\n",
       "      <th>2013-09-30</th>\n",
       "      <td>-0.195505</td>\n",
       "      <td>-0.972930</td>\n",
       "      <td>-0.079203</td>\n",
       "      <td>1.039312</td>\n",
       "      <td>9</td>\n",
       "    </tr>\n",
       "    <tr>\n",
       "      <th>2013-10-31</th>\n",
       "      <td>-0.638550</td>\n",
       "      <td>-1.063592</td>\n",
       "      <td>-0.328096</td>\n",
       "      <td>0.738510</td>\n",
       "      <td>10</td>\n",
       "    </tr>\n",
       "    <tr>\n",
       "      <th>2013-11-30</th>\n",
       "      <td>-1.030374</td>\n",
       "      <td>0.425851</td>\n",
       "      <td>0.168814</td>\n",
       "      <td>0.106634</td>\n",
       "      <td>11</td>\n",
       "    </tr>\n",
       "    <tr>\n",
       "      <th>2013-12-31</th>\n",
       "      <td>0.161653</td>\n",
       "      <td>-0.843938</td>\n",
       "      <td>0.311525</td>\n",
       "      <td>0.136695</td>\n",
       "      <td>12</td>\n",
       "    </tr>\n",
       "  </tbody>\n",
       "</table>\n",
       "</div>"
      ],
      "text/plain": [
       "                   A         B         C         D   F\n",
       "2013-01-31  0.708013 -0.004502  0.441911  0.945155   1\n",
       "2013-02-28  0.072095  1.616562 -0.347967 -0.337045   2\n",
       "2013-03-31  0.667359  1.392938  2.455543 -0.291956   3\n",
       "2013-04-30  1.749657 -0.749766 -0.652762  2.050782   4\n",
       "2013-05-31  0.957102  0.192933  0.321934  0.520162   5\n",
       "2013-06-30  0.024835  0.746146  0.856928 -0.628672   6\n",
       "2013-07-31  2.668856 -0.519759 -1.396908 -0.226528   7\n",
       "2013-08-31  0.664134  1.488608  0.875024  0.384178   8\n",
       "2013-09-30 -0.195505 -0.972930 -0.079203  1.039312   9\n",
       "2013-10-31 -0.638550 -1.063592 -0.328096  0.738510  10\n",
       "2013-11-30 -1.030374  0.425851  0.168814  0.106634  11\n",
       "2013-12-31  0.161653 -0.843938  0.311525  0.136695  12"
      ]
     },
     "execution_count": 70,
     "metadata": {
      "tags": []
     },
     "output_type": "execute_result"
    }
   ],
   "source": [
    "df[\"F\"] = s1\n",
    "df"
   ]
  },
  {
   "cell_type": "code",
   "execution_count": 0,
   "metadata": {
    "colab": {
     "base_uri": "https://localhost:8080/",
     "height": 402
    },
    "colab_type": "code",
    "id": "Mf0jykwuYbEk",
    "outputId": "3b97e273-7642-461b-f96b-a064cb605051"
   },
   "outputs": [
    {
     "data": {
      "text/html": [
       "<div>\n",
       "<style scoped>\n",
       "    .dataframe tbody tr th:only-of-type {\n",
       "        vertical-align: middle;\n",
       "    }\n",
       "\n",
       "    .dataframe tbody tr th {\n",
       "        vertical-align: top;\n",
       "    }\n",
       "\n",
       "    .dataframe thead th {\n",
       "        text-align: right;\n",
       "    }\n",
       "</style>\n",
       "<table border=\"1\" class=\"dataframe\">\n",
       "  <thead>\n",
       "    <tr style=\"text-align: right;\">\n",
       "      <th></th>\n",
       "      <th>A</th>\n",
       "      <th>B</th>\n",
       "      <th>C</th>\n",
       "      <th>D</th>\n",
       "      <th>F</th>\n",
       "    </tr>\n",
       "  </thead>\n",
       "  <tbody>\n",
       "    <tr>\n",
       "      <th>2013-01-31</th>\n",
       "      <td>0.708013</td>\n",
       "      <td>-0.004502</td>\n",
       "      <td>0.441911</td>\n",
       "      <td>5</td>\n",
       "      <td>1</td>\n",
       "    </tr>\n",
       "    <tr>\n",
       "      <th>2013-02-28</th>\n",
       "      <td>0.072095</td>\n",
       "      <td>1.616562</td>\n",
       "      <td>-0.347967</td>\n",
       "      <td>5</td>\n",
       "      <td>2</td>\n",
       "    </tr>\n",
       "    <tr>\n",
       "      <th>2013-03-31</th>\n",
       "      <td>0.667359</td>\n",
       "      <td>1.392938</td>\n",
       "      <td>2.455543</td>\n",
       "      <td>5</td>\n",
       "      <td>3</td>\n",
       "    </tr>\n",
       "    <tr>\n",
       "      <th>2013-04-30</th>\n",
       "      <td>1.749657</td>\n",
       "      <td>-0.749766</td>\n",
       "      <td>-0.652762</td>\n",
       "      <td>5</td>\n",
       "      <td>4</td>\n",
       "    </tr>\n",
       "    <tr>\n",
       "      <th>2013-05-31</th>\n",
       "      <td>0.957102</td>\n",
       "      <td>0.192933</td>\n",
       "      <td>0.321934</td>\n",
       "      <td>5</td>\n",
       "      <td>5</td>\n",
       "    </tr>\n",
       "    <tr>\n",
       "      <th>2013-06-30</th>\n",
       "      <td>0.024835</td>\n",
       "      <td>0.746146</td>\n",
       "      <td>0.856928</td>\n",
       "      <td>5</td>\n",
       "      <td>6</td>\n",
       "    </tr>\n",
       "    <tr>\n",
       "      <th>2013-07-31</th>\n",
       "      <td>2.668856</td>\n",
       "      <td>-0.519759</td>\n",
       "      <td>-1.396908</td>\n",
       "      <td>5</td>\n",
       "      <td>7</td>\n",
       "    </tr>\n",
       "    <tr>\n",
       "      <th>2013-08-31</th>\n",
       "      <td>0.664134</td>\n",
       "      <td>1.488608</td>\n",
       "      <td>0.875024</td>\n",
       "      <td>5</td>\n",
       "      <td>8</td>\n",
       "    </tr>\n",
       "    <tr>\n",
       "      <th>2013-09-30</th>\n",
       "      <td>-0.195505</td>\n",
       "      <td>-0.972930</td>\n",
       "      <td>-0.079203</td>\n",
       "      <td>5</td>\n",
       "      <td>9</td>\n",
       "    </tr>\n",
       "    <tr>\n",
       "      <th>2013-10-31</th>\n",
       "      <td>-0.638550</td>\n",
       "      <td>-1.063592</td>\n",
       "      <td>-0.328096</td>\n",
       "      <td>5</td>\n",
       "      <td>10</td>\n",
       "    </tr>\n",
       "    <tr>\n",
       "      <th>2013-11-30</th>\n",
       "      <td>-1.030374</td>\n",
       "      <td>0.425851</td>\n",
       "      <td>0.168814</td>\n",
       "      <td>5</td>\n",
       "      <td>11</td>\n",
       "    </tr>\n",
       "    <tr>\n",
       "      <th>2013-12-31</th>\n",
       "      <td>0.161653</td>\n",
       "      <td>-0.843938</td>\n",
       "      <td>0.311525</td>\n",
       "      <td>5</td>\n",
       "      <td>12</td>\n",
       "    </tr>\n",
       "  </tbody>\n",
       "</table>\n",
       "</div>"
      ],
      "text/plain": [
       "                   A         B         C  D   F\n",
       "2013-01-31  0.708013 -0.004502  0.441911  5   1\n",
       "2013-02-28  0.072095  1.616562 -0.347967  5   2\n",
       "2013-03-31  0.667359  1.392938  2.455543  5   3\n",
       "2013-04-30  1.749657 -0.749766 -0.652762  5   4\n",
       "2013-05-31  0.957102  0.192933  0.321934  5   5\n",
       "2013-06-30  0.024835  0.746146  0.856928  5   6\n",
       "2013-07-31  2.668856 -0.519759 -1.396908  5   7\n",
       "2013-08-31  0.664134  1.488608  0.875024  5   8\n",
       "2013-09-30 -0.195505 -0.972930 -0.079203  5   9\n",
       "2013-10-31 -0.638550 -1.063592 -0.328096  5  10\n",
       "2013-11-30 -1.030374  0.425851  0.168814  5  11\n",
       "2013-12-31  0.161653 -0.843938  0.311525  5  12"
      ]
     },
     "execution_count": 72,
     "metadata": {
      "tags": []
     },
     "output_type": "execute_result"
    }
   ],
   "source": [
    "#Setting by assigning with a NumPy array\n",
    "df.loc[:, \"D\"] = np.array([5] * len(df))\n",
    "df"
   ]
  },
  {
   "cell_type": "code",
   "execution_count": 0,
   "metadata": {
    "colab": {
     "base_uri": "https://localhost:8080/",
     "height": 402
    },
    "colab_type": "code",
    "id": "5WbVezaRYk3i",
    "outputId": "947a8ee5-5a7f-43b1-d541-2878aad89fc9"
   },
   "outputs": [
    {
     "data": {
      "text/html": [
       "<div>\n",
       "<style scoped>\n",
       "    .dataframe tbody tr th:only-of-type {\n",
       "        vertical-align: middle;\n",
       "    }\n",
       "\n",
       "    .dataframe tbody tr th {\n",
       "        vertical-align: top;\n",
       "    }\n",
       "\n",
       "    .dataframe thead th {\n",
       "        text-align: right;\n",
       "    }\n",
       "</style>\n",
       "<table border=\"1\" class=\"dataframe\">\n",
       "  <thead>\n",
       "    <tr style=\"text-align: right;\">\n",
       "      <th></th>\n",
       "      <th>A</th>\n",
       "      <th>B</th>\n",
       "      <th>C</th>\n",
       "      <th>D</th>\n",
       "      <th>F</th>\n",
       "    </tr>\n",
       "  </thead>\n",
       "  <tbody>\n",
       "    <tr>\n",
       "      <th>2013-01-31</th>\n",
       "      <td>-0.708013</td>\n",
       "      <td>-0.004502</td>\n",
       "      <td>-0.441911</td>\n",
       "      <td>-5</td>\n",
       "      <td>-1</td>\n",
       "    </tr>\n",
       "    <tr>\n",
       "      <th>2013-02-28</th>\n",
       "      <td>-0.072095</td>\n",
       "      <td>-1.616562</td>\n",
       "      <td>-0.347967</td>\n",
       "      <td>-5</td>\n",
       "      <td>-2</td>\n",
       "    </tr>\n",
       "    <tr>\n",
       "      <th>2013-03-31</th>\n",
       "      <td>-0.667359</td>\n",
       "      <td>-1.392938</td>\n",
       "      <td>-2.455543</td>\n",
       "      <td>-5</td>\n",
       "      <td>-3</td>\n",
       "    </tr>\n",
       "    <tr>\n",
       "      <th>2013-04-30</th>\n",
       "      <td>-1.749657</td>\n",
       "      <td>-0.749766</td>\n",
       "      <td>-0.652762</td>\n",
       "      <td>-5</td>\n",
       "      <td>-4</td>\n",
       "    </tr>\n",
       "    <tr>\n",
       "      <th>2013-05-31</th>\n",
       "      <td>-0.957102</td>\n",
       "      <td>-0.192933</td>\n",
       "      <td>-0.321934</td>\n",
       "      <td>-5</td>\n",
       "      <td>-5</td>\n",
       "    </tr>\n",
       "    <tr>\n",
       "      <th>2013-06-30</th>\n",
       "      <td>-0.024835</td>\n",
       "      <td>-0.746146</td>\n",
       "      <td>-0.856928</td>\n",
       "      <td>-5</td>\n",
       "      <td>-6</td>\n",
       "    </tr>\n",
       "    <tr>\n",
       "      <th>2013-07-31</th>\n",
       "      <td>-2.668856</td>\n",
       "      <td>-0.519759</td>\n",
       "      <td>-1.396908</td>\n",
       "      <td>-5</td>\n",
       "      <td>-7</td>\n",
       "    </tr>\n",
       "    <tr>\n",
       "      <th>2013-08-31</th>\n",
       "      <td>-0.664134</td>\n",
       "      <td>-1.488608</td>\n",
       "      <td>-0.875024</td>\n",
       "      <td>-5</td>\n",
       "      <td>-8</td>\n",
       "    </tr>\n",
       "    <tr>\n",
       "      <th>2013-09-30</th>\n",
       "      <td>-0.195505</td>\n",
       "      <td>-0.972930</td>\n",
       "      <td>-0.079203</td>\n",
       "      <td>-5</td>\n",
       "      <td>-9</td>\n",
       "    </tr>\n",
       "    <tr>\n",
       "      <th>2013-10-31</th>\n",
       "      <td>-0.638550</td>\n",
       "      <td>-1.063592</td>\n",
       "      <td>-0.328096</td>\n",
       "      <td>-5</td>\n",
       "      <td>-10</td>\n",
       "    </tr>\n",
       "    <tr>\n",
       "      <th>2013-11-30</th>\n",
       "      <td>-1.030374</td>\n",
       "      <td>-0.425851</td>\n",
       "      <td>-0.168814</td>\n",
       "      <td>-5</td>\n",
       "      <td>-11</td>\n",
       "    </tr>\n",
       "    <tr>\n",
       "      <th>2013-12-31</th>\n",
       "      <td>-0.161653</td>\n",
       "      <td>-0.843938</td>\n",
       "      <td>-0.311525</td>\n",
       "      <td>-5</td>\n",
       "      <td>-12</td>\n",
       "    </tr>\n",
       "  </tbody>\n",
       "</table>\n",
       "</div>"
      ],
      "text/plain": [
       "                   A         B         C  D   F\n",
       "2013-01-31 -0.708013 -0.004502 -0.441911 -5  -1\n",
       "2013-02-28 -0.072095 -1.616562 -0.347967 -5  -2\n",
       "2013-03-31 -0.667359 -1.392938 -2.455543 -5  -3\n",
       "2013-04-30 -1.749657 -0.749766 -0.652762 -5  -4\n",
       "2013-05-31 -0.957102 -0.192933 -0.321934 -5  -5\n",
       "2013-06-30 -0.024835 -0.746146 -0.856928 -5  -6\n",
       "2013-07-31 -2.668856 -0.519759 -1.396908 -5  -7\n",
       "2013-08-31 -0.664134 -1.488608 -0.875024 -5  -8\n",
       "2013-09-30 -0.195505 -0.972930 -0.079203 -5  -9\n",
       "2013-10-31 -0.638550 -1.063592 -0.328096 -5 -10\n",
       "2013-11-30 -1.030374 -0.425851 -0.168814 -5 -11\n",
       "2013-12-31 -0.161653 -0.843938 -0.311525 -5 -12"
      ]
     },
     "execution_count": 74,
     "metadata": {
      "tags": []
     },
     "output_type": "execute_result"
    }
   ],
   "source": [
    "#A where operation with setting (negation)\n",
    "df2 = df.copy()\n",
    "df2[df2 > 0] = -df2\n",
    "df2"
   ]
  },
  {
   "cell_type": "markdown",
   "metadata": {
    "colab_type": "text",
    "id": "WDTxytWFY25K"
   },
   "source": [
    "# Missing Data\n",
    "Panda uses np.nan to represent missing data. It is by default not included in computations."
   ]
  },
  {
   "cell_type": "code",
   "execution_count": 0,
   "metadata": {
    "colab": {
     "base_uri": "https://localhost:8080/",
     "height": 166
    },
    "colab_type": "code",
    "id": "vIGsQHNHY4vx",
    "outputId": "c766977b-5f57-4d24-dc9b-d33718300993"
   },
   "outputs": [
    {
     "data": {
      "text/html": [
       "<div>\n",
       "<style scoped>\n",
       "    .dataframe tbody tr th:only-of-type {\n",
       "        vertical-align: middle;\n",
       "    }\n",
       "\n",
       "    .dataframe tbody tr th {\n",
       "        vertical-align: top;\n",
       "    }\n",
       "\n",
       "    .dataframe thead th {\n",
       "        text-align: right;\n",
       "    }\n",
       "</style>\n",
       "<table border=\"1\" class=\"dataframe\">\n",
       "  <thead>\n",
       "    <tr style=\"text-align: right;\">\n",
       "      <th></th>\n",
       "      <th>A</th>\n",
       "      <th>B</th>\n",
       "      <th>C</th>\n",
       "      <th>D</th>\n",
       "      <th>F</th>\n",
       "      <th>E</th>\n",
       "    </tr>\n",
       "  </thead>\n",
       "  <tbody>\n",
       "    <tr>\n",
       "      <th>2013-01-31</th>\n",
       "      <td>0.708013</td>\n",
       "      <td>-0.004502</td>\n",
       "      <td>0.441911</td>\n",
       "      <td>5</td>\n",
       "      <td>1</td>\n",
       "      <td>1.0</td>\n",
       "    </tr>\n",
       "    <tr>\n",
       "      <th>2013-02-28</th>\n",
       "      <td>0.072095</td>\n",
       "      <td>1.616562</td>\n",
       "      <td>-0.347967</td>\n",
       "      <td>5</td>\n",
       "      <td>2</td>\n",
       "      <td>1.0</td>\n",
       "    </tr>\n",
       "    <tr>\n",
       "      <th>2013-03-31</th>\n",
       "      <td>0.667359</td>\n",
       "      <td>1.392938</td>\n",
       "      <td>2.455543</td>\n",
       "      <td>5</td>\n",
       "      <td>3</td>\n",
       "      <td>NaN</td>\n",
       "    </tr>\n",
       "    <tr>\n",
       "      <th>2013-04-30</th>\n",
       "      <td>1.749657</td>\n",
       "      <td>-0.749766</td>\n",
       "      <td>-0.652762</td>\n",
       "      <td>5</td>\n",
       "      <td>4</td>\n",
       "      <td>NaN</td>\n",
       "    </tr>\n",
       "  </tbody>\n",
       "</table>\n",
       "</div>"
      ],
      "text/plain": [
       "                   A         B         C  D  F    E\n",
       "2013-01-31  0.708013 -0.004502  0.441911  5  1  1.0\n",
       "2013-02-28  0.072095  1.616562 -0.347967  5  2  1.0\n",
       "2013-03-31  0.667359  1.392938  2.455543  5  3  NaN\n",
       "2013-04-30  1.749657 -0.749766 -0.652762  5  4  NaN"
      ]
     },
     "execution_count": 77,
     "metadata": {
      "tags": []
     },
     "output_type": "execute_result"
    }
   ],
   "source": [
    "#Reindexing allows you to change/add/delete the index on a specified axis.\n",
    "#This returns a copy of the DataFrame\n",
    "df1 = df.reindex(index=dates[0:4], columns=list(df.columns) + [\"E\"])\n",
    "\n",
    "df1.loc[dates[0]:dates[1], \"E\"] = 1\n",
    "\n",
    "df1"
   ]
  },
  {
   "cell_type": "code",
   "execution_count": 0,
   "metadata": {
    "colab": {
     "base_uri": "https://localhost:8080/",
     "height": 106
    },
    "colab_type": "code",
    "id": "SjV-oR2xZk6g",
    "outputId": "f0f5a3fa-8951-4e4a-fd34-60d24e44de8a"
   },
   "outputs": [
    {
     "data": {
      "text/html": [
       "<div>\n",
       "<style scoped>\n",
       "    .dataframe tbody tr th:only-of-type {\n",
       "        vertical-align: middle;\n",
       "    }\n",
       "\n",
       "    .dataframe tbody tr th {\n",
       "        vertical-align: top;\n",
       "    }\n",
       "\n",
       "    .dataframe thead th {\n",
       "        text-align: right;\n",
       "    }\n",
       "</style>\n",
       "<table border=\"1\" class=\"dataframe\">\n",
       "  <thead>\n",
       "    <tr style=\"text-align: right;\">\n",
       "      <th></th>\n",
       "      <th>A</th>\n",
       "      <th>B</th>\n",
       "      <th>C</th>\n",
       "      <th>D</th>\n",
       "      <th>F</th>\n",
       "      <th>E</th>\n",
       "    </tr>\n",
       "  </thead>\n",
       "  <tbody>\n",
       "    <tr>\n",
       "      <th>2013-01-31</th>\n",
       "      <td>0.708013</td>\n",
       "      <td>-0.004502</td>\n",
       "      <td>0.441911</td>\n",
       "      <td>5</td>\n",
       "      <td>1</td>\n",
       "      <td>1.0</td>\n",
       "    </tr>\n",
       "    <tr>\n",
       "      <th>2013-02-28</th>\n",
       "      <td>0.072095</td>\n",
       "      <td>1.616562</td>\n",
       "      <td>-0.347967</td>\n",
       "      <td>5</td>\n",
       "      <td>2</td>\n",
       "      <td>1.0</td>\n",
       "    </tr>\n",
       "  </tbody>\n",
       "</table>\n",
       "</div>"
      ],
      "text/plain": [
       "                   A         B         C  D  F    E\n",
       "2013-01-31  0.708013 -0.004502  0.441911  5  1  1.0\n",
       "2013-02-28  0.072095  1.616562 -0.347967  5  2  1.0"
      ]
     },
     "execution_count": 78,
     "metadata": {
      "tags": []
     },
     "output_type": "execute_result"
    }
   ],
   "source": [
    "#To drop any rows that have missing data\n",
    "\n",
    "df1.dropna(how=\"any\")"
   ]
  },
  {
   "cell_type": "code",
   "execution_count": 0,
   "metadata": {
    "colab": {
     "base_uri": "https://localhost:8080/",
     "height": 166
    },
    "colab_type": "code",
    "id": "rArh6AFVZtyg",
    "outputId": "2aec6ba8-5c13-4501-b79e-7f675482d63e"
   },
   "outputs": [
    {
     "data": {
      "text/html": [
       "<div>\n",
       "<style scoped>\n",
       "    .dataframe tbody tr th:only-of-type {\n",
       "        vertical-align: middle;\n",
       "    }\n",
       "\n",
       "    .dataframe tbody tr th {\n",
       "        vertical-align: top;\n",
       "    }\n",
       "\n",
       "    .dataframe thead th {\n",
       "        text-align: right;\n",
       "    }\n",
       "</style>\n",
       "<table border=\"1\" class=\"dataframe\">\n",
       "  <thead>\n",
       "    <tr style=\"text-align: right;\">\n",
       "      <th></th>\n",
       "      <th>A</th>\n",
       "      <th>B</th>\n",
       "      <th>C</th>\n",
       "      <th>D</th>\n",
       "      <th>F</th>\n",
       "      <th>E</th>\n",
       "    </tr>\n",
       "  </thead>\n",
       "  <tbody>\n",
       "    <tr>\n",
       "      <th>2013-01-31</th>\n",
       "      <td>0.708013</td>\n",
       "      <td>-0.004502</td>\n",
       "      <td>0.441911</td>\n",
       "      <td>5</td>\n",
       "      <td>1</td>\n",
       "      <td>1.0</td>\n",
       "    </tr>\n",
       "    <tr>\n",
       "      <th>2013-02-28</th>\n",
       "      <td>0.072095</td>\n",
       "      <td>1.616562</td>\n",
       "      <td>-0.347967</td>\n",
       "      <td>5</td>\n",
       "      <td>2</td>\n",
       "      <td>1.0</td>\n",
       "    </tr>\n",
       "    <tr>\n",
       "      <th>2013-03-31</th>\n",
       "      <td>0.667359</td>\n",
       "      <td>1.392938</td>\n",
       "      <td>2.455543</td>\n",
       "      <td>5</td>\n",
       "      <td>3</td>\n",
       "      <td>5.0</td>\n",
       "    </tr>\n",
       "    <tr>\n",
       "      <th>2013-04-30</th>\n",
       "      <td>1.749657</td>\n",
       "      <td>-0.749766</td>\n",
       "      <td>-0.652762</td>\n",
       "      <td>5</td>\n",
       "      <td>4</td>\n",
       "      <td>5.0</td>\n",
       "    </tr>\n",
       "  </tbody>\n",
       "</table>\n",
       "</div>"
      ],
      "text/plain": [
       "                   A         B         C  D  F    E\n",
       "2013-01-31  0.708013 -0.004502  0.441911  5  1  1.0\n",
       "2013-02-28  0.072095  1.616562 -0.347967  5  2  1.0\n",
       "2013-03-31  0.667359  1.392938  2.455543  5  3  5.0\n",
       "2013-04-30  1.749657 -0.749766 -0.652762  5  4  5.0"
      ]
     },
     "execution_count": 79,
     "metadata": {
      "tags": []
     },
     "output_type": "execute_result"
    }
   ],
   "source": [
    "#Filling missing data\n",
    "\n",
    "df1.fillna(value=5)"
   ]
  },
  {
   "cell_type": "code",
   "execution_count": 0,
   "metadata": {
    "colab": {
     "base_uri": "https://localhost:8080/",
     "height": 166
    },
    "colab_type": "code",
    "id": "xdlngUoXZysx",
    "outputId": "9f86c245-7e3f-47ea-e538-1dd2cda61100"
   },
   "outputs": [
    {
     "data": {
      "text/html": [
       "<div>\n",
       "<style scoped>\n",
       "    .dataframe tbody tr th:only-of-type {\n",
       "        vertical-align: middle;\n",
       "    }\n",
       "\n",
       "    .dataframe tbody tr th {\n",
       "        vertical-align: top;\n",
       "    }\n",
       "\n",
       "    .dataframe thead th {\n",
       "        text-align: right;\n",
       "    }\n",
       "</style>\n",
       "<table border=\"1\" class=\"dataframe\">\n",
       "  <thead>\n",
       "    <tr style=\"text-align: right;\">\n",
       "      <th></th>\n",
       "      <th>A</th>\n",
       "      <th>B</th>\n",
       "      <th>C</th>\n",
       "      <th>D</th>\n",
       "      <th>F</th>\n",
       "      <th>E</th>\n",
       "    </tr>\n",
       "  </thead>\n",
       "  <tbody>\n",
       "    <tr>\n",
       "      <th>2013-01-31</th>\n",
       "      <td>False</td>\n",
       "      <td>False</td>\n",
       "      <td>False</td>\n",
       "      <td>False</td>\n",
       "      <td>False</td>\n",
       "      <td>False</td>\n",
       "    </tr>\n",
       "    <tr>\n",
       "      <th>2013-02-28</th>\n",
       "      <td>False</td>\n",
       "      <td>False</td>\n",
       "      <td>False</td>\n",
       "      <td>False</td>\n",
       "      <td>False</td>\n",
       "      <td>False</td>\n",
       "    </tr>\n",
       "    <tr>\n",
       "      <th>2013-03-31</th>\n",
       "      <td>False</td>\n",
       "      <td>False</td>\n",
       "      <td>False</td>\n",
       "      <td>False</td>\n",
       "      <td>False</td>\n",
       "      <td>True</td>\n",
       "    </tr>\n",
       "    <tr>\n",
       "      <th>2013-04-30</th>\n",
       "      <td>False</td>\n",
       "      <td>False</td>\n",
       "      <td>False</td>\n",
       "      <td>False</td>\n",
       "      <td>False</td>\n",
       "      <td>True</td>\n",
       "    </tr>\n",
       "  </tbody>\n",
       "</table>\n",
       "</div>"
      ],
      "text/plain": [
       "                A      B      C      D      F      E\n",
       "2013-01-31  False  False  False  False  False  False\n",
       "2013-02-28  False  False  False  False  False  False\n",
       "2013-03-31  False  False  False  False  False   True\n",
       "2013-04-30  False  False  False  False  False   True"
      ]
     },
     "execution_count": 80,
     "metadata": {
      "tags": []
     },
     "output_type": "execute_result"
    }
   ],
   "source": [
    "#To get the boolean mask where values are nan\n",
    "pd.isna(df1)"
   ]
  },
  {
   "cell_type": "markdown",
   "metadata": {
    "colab_type": "text",
    "id": "RMDQu0UrZ5Hw"
   },
   "source": [
    "# Operations\n",
    "Operations exclude missing data (nan values)"
   ]
  },
  {
   "cell_type": "code",
   "execution_count": 0,
   "metadata": {
    "colab": {
     "base_uri": "https://localhost:8080/",
     "height": 118
    },
    "colab_type": "code",
    "id": "7xECT-3zZ7MQ",
    "outputId": "7f8ce13f-c943-43e7-a1df-ae104c3c10e2"
   },
   "outputs": [
    {
     "data": {
      "text/plain": [
       "A    0.484106\n",
       "B    0.142379\n",
       "C    0.218895\n",
       "D    5.000000\n",
       "F    6.500000\n",
       "dtype: float64"
      ]
     },
     "execution_count": 81,
     "metadata": {
      "tags": []
     },
     "output_type": "execute_result"
    }
   ],
   "source": [
    "df.mean()"
   ]
  },
  {
   "cell_type": "code",
   "execution_count": 0,
   "metadata": {
    "colab": {
     "base_uri": "https://localhost:8080/",
     "height": 235
    },
    "colab_type": "code",
    "id": "bw1ehit-aEOY",
    "outputId": "c84710cc-1bab-44a2-8c34-ae6c8237db8d"
   },
   "outputs": [
    {
     "data": {
      "text/plain": [
       "2013-01-31    1.429084\n",
       "2013-02-28    1.668138\n",
       "2013-03-31    2.503168\n",
       "2013-04-30    1.869426\n",
       "2013-05-31    2.294394\n",
       "2013-06-30    2.525582\n",
       "2013-07-31    2.550438\n",
       "2013-08-31    3.205553\n",
       "2013-09-30    2.550472\n",
       "2013-10-31    2.593952\n",
       "2013-11-30    3.112858\n",
       "2013-12-31    3.325848\n",
       "Freq: M, dtype: float64"
      ]
     },
     "execution_count": 82,
     "metadata": {
      "tags": []
     },
     "output_type": "execute_result"
    }
   ],
   "source": [
    "df.mean(1)"
   ]
  },
  {
   "cell_type": "code",
   "execution_count": 0,
   "metadata": {
    "colab": {
     "base_uri": "https://localhost:8080/",
     "height": 235
    },
    "colab_type": "code",
    "id": "wKUJ3GKNaTXh",
    "outputId": "7a590665-9b14-4c72-e95a-92f1ec7ad926"
   },
   "outputs": [
    {
     "data": {
      "text/plain": [
       "2013-01-31    NaN\n",
       "2013-02-28    NaN\n",
       "2013-03-31    1.0\n",
       "2013-04-30    3.0\n",
       "2013-05-31    5.0\n",
       "2013-06-30    NaN\n",
       "2013-07-31    6.0\n",
       "2013-08-31    8.0\n",
       "2013-09-30    1.0\n",
       "2013-10-31    2.0\n",
       "2013-11-30    3.0\n",
       "2013-12-31    4.0\n",
       "Freq: M, dtype: float64"
      ]
     },
     "execution_count": 84,
     "metadata": {
      "tags": []
     },
     "output_type": "execute_result"
    }
   ],
   "source": [
    "s = pd.Series([1, 3, 5, np.nan, 6, 8, 1, 2, 3, 4, 5, 6], index=dates).shift(2)\n",
    "\n",
    "s"
   ]
  },
  {
   "cell_type": "code",
   "execution_count": 0,
   "metadata": {
    "colab": {
     "base_uri": "https://localhost:8080/",
     "height": 402
    },
    "colab_type": "code",
    "id": "y4VLGxwqauYh",
    "outputId": "5859a727-5865-4779-9602-1c37682365bf"
   },
   "outputs": [
    {
     "data": {
      "text/html": [
       "<div>\n",
       "<style scoped>\n",
       "    .dataframe tbody tr th:only-of-type {\n",
       "        vertical-align: middle;\n",
       "    }\n",
       "\n",
       "    .dataframe tbody tr th {\n",
       "        vertical-align: top;\n",
       "    }\n",
       "\n",
       "    .dataframe thead th {\n",
       "        text-align: right;\n",
       "    }\n",
       "</style>\n",
       "<table border=\"1\" class=\"dataframe\">\n",
       "  <thead>\n",
       "    <tr style=\"text-align: right;\">\n",
       "      <th></th>\n",
       "      <th>A</th>\n",
       "      <th>B</th>\n",
       "      <th>C</th>\n",
       "      <th>D</th>\n",
       "      <th>F</th>\n",
       "    </tr>\n",
       "  </thead>\n",
       "  <tbody>\n",
       "    <tr>\n",
       "      <th>2013-01-31</th>\n",
       "      <td>NaN</td>\n",
       "      <td>NaN</td>\n",
       "      <td>NaN</td>\n",
       "      <td>NaN</td>\n",
       "      <td>NaN</td>\n",
       "    </tr>\n",
       "    <tr>\n",
       "      <th>2013-02-28</th>\n",
       "      <td>NaN</td>\n",
       "      <td>NaN</td>\n",
       "      <td>NaN</td>\n",
       "      <td>NaN</td>\n",
       "      <td>NaN</td>\n",
       "    </tr>\n",
       "    <tr>\n",
       "      <th>2013-03-31</th>\n",
       "      <td>-0.332641</td>\n",
       "      <td>0.392938</td>\n",
       "      <td>1.455543</td>\n",
       "      <td>4.0</td>\n",
       "      <td>2.0</td>\n",
       "    </tr>\n",
       "    <tr>\n",
       "      <th>2013-04-30</th>\n",
       "      <td>-1.250343</td>\n",
       "      <td>-3.749766</td>\n",
       "      <td>-3.652762</td>\n",
       "      <td>2.0</td>\n",
       "      <td>1.0</td>\n",
       "    </tr>\n",
       "    <tr>\n",
       "      <th>2013-05-31</th>\n",
       "      <td>-4.042898</td>\n",
       "      <td>-4.807067</td>\n",
       "      <td>-4.678066</td>\n",
       "      <td>0.0</td>\n",
       "      <td>0.0</td>\n",
       "    </tr>\n",
       "    <tr>\n",
       "      <th>2013-06-30</th>\n",
       "      <td>NaN</td>\n",
       "      <td>NaN</td>\n",
       "      <td>NaN</td>\n",
       "      <td>NaN</td>\n",
       "      <td>NaN</td>\n",
       "    </tr>\n",
       "    <tr>\n",
       "      <th>2013-07-31</th>\n",
       "      <td>-3.331144</td>\n",
       "      <td>-6.519759</td>\n",
       "      <td>-7.396908</td>\n",
       "      <td>-1.0</td>\n",
       "      <td>1.0</td>\n",
       "    </tr>\n",
       "    <tr>\n",
       "      <th>2013-08-31</th>\n",
       "      <td>-7.335866</td>\n",
       "      <td>-6.511392</td>\n",
       "      <td>-7.124976</td>\n",
       "      <td>-3.0</td>\n",
       "      <td>0.0</td>\n",
       "    </tr>\n",
       "    <tr>\n",
       "      <th>2013-09-30</th>\n",
       "      <td>-1.195505</td>\n",
       "      <td>-1.972930</td>\n",
       "      <td>-1.079203</td>\n",
       "      <td>4.0</td>\n",
       "      <td>8.0</td>\n",
       "    </tr>\n",
       "    <tr>\n",
       "      <th>2013-10-31</th>\n",
       "      <td>-2.638550</td>\n",
       "      <td>-3.063592</td>\n",
       "      <td>-2.328096</td>\n",
       "      <td>3.0</td>\n",
       "      <td>8.0</td>\n",
       "    </tr>\n",
       "    <tr>\n",
       "      <th>2013-11-30</th>\n",
       "      <td>-4.030374</td>\n",
       "      <td>-2.574149</td>\n",
       "      <td>-2.831186</td>\n",
       "      <td>2.0</td>\n",
       "      <td>8.0</td>\n",
       "    </tr>\n",
       "    <tr>\n",
       "      <th>2013-12-31</th>\n",
       "      <td>-3.838347</td>\n",
       "      <td>-4.843938</td>\n",
       "      <td>-3.688475</td>\n",
       "      <td>1.0</td>\n",
       "      <td>8.0</td>\n",
       "    </tr>\n",
       "  </tbody>\n",
       "</table>\n",
       "</div>"
      ],
      "text/plain": [
       "                   A         B         C    D    F\n",
       "2013-01-31       NaN       NaN       NaN  NaN  NaN\n",
       "2013-02-28       NaN       NaN       NaN  NaN  NaN\n",
       "2013-03-31 -0.332641  0.392938  1.455543  4.0  2.0\n",
       "2013-04-30 -1.250343 -3.749766 -3.652762  2.0  1.0\n",
       "2013-05-31 -4.042898 -4.807067 -4.678066  0.0  0.0\n",
       "2013-06-30       NaN       NaN       NaN  NaN  NaN\n",
       "2013-07-31 -3.331144 -6.519759 -7.396908 -1.0  1.0\n",
       "2013-08-31 -7.335866 -6.511392 -7.124976 -3.0  0.0\n",
       "2013-09-30 -1.195505 -1.972930 -1.079203  4.0  8.0\n",
       "2013-10-31 -2.638550 -3.063592 -2.328096  3.0  8.0\n",
       "2013-11-30 -4.030374 -2.574149 -2.831186  2.0  8.0\n",
       "2013-12-31 -3.838347 -4.843938 -3.688475  1.0  8.0"
      ]
     },
     "execution_count": 85,
     "metadata": {
      "tags": []
     },
     "output_type": "execute_result"
    }
   ],
   "source": [
    "df.sub(s, axis=\"index\")"
   ]
  },
  {
   "cell_type": "markdown",
   "metadata": {
    "colab_type": "text",
    "id": "HdEagnaOa5uT"
   },
   "source": [
    "## Apply"
   ]
  },
  {
   "cell_type": "code",
   "execution_count": 0,
   "metadata": {
    "colab": {
     "base_uri": "https://localhost:8080/",
     "height": 402
    },
    "colab_type": "code",
    "id": "mBNmXeBda7Up",
    "outputId": "e39f578d-6d29-4405-89c9-0968e190b694"
   },
   "outputs": [
    {
     "data": {
      "text/html": [
       "<div>\n",
       "<style scoped>\n",
       "    .dataframe tbody tr th:only-of-type {\n",
       "        vertical-align: middle;\n",
       "    }\n",
       "\n",
       "    .dataframe tbody tr th {\n",
       "        vertical-align: top;\n",
       "    }\n",
       "\n",
       "    .dataframe thead th {\n",
       "        text-align: right;\n",
       "    }\n",
       "</style>\n",
       "<table border=\"1\" class=\"dataframe\">\n",
       "  <thead>\n",
       "    <tr style=\"text-align: right;\">\n",
       "      <th></th>\n",
       "      <th>A</th>\n",
       "      <th>B</th>\n",
       "      <th>C</th>\n",
       "      <th>D</th>\n",
       "      <th>F</th>\n",
       "    </tr>\n",
       "  </thead>\n",
       "  <tbody>\n",
       "    <tr>\n",
       "      <th>2013-01-31</th>\n",
       "      <td>0.708013</td>\n",
       "      <td>-0.004502</td>\n",
       "      <td>0.441911</td>\n",
       "      <td>5</td>\n",
       "      <td>1</td>\n",
       "    </tr>\n",
       "    <tr>\n",
       "      <th>2013-02-28</th>\n",
       "      <td>0.780108</td>\n",
       "      <td>1.612059</td>\n",
       "      <td>0.093945</td>\n",
       "      <td>10</td>\n",
       "      <td>3</td>\n",
       "    </tr>\n",
       "    <tr>\n",
       "      <th>2013-03-31</th>\n",
       "      <td>1.447467</td>\n",
       "      <td>3.004997</td>\n",
       "      <td>2.549488</td>\n",
       "      <td>15</td>\n",
       "      <td>6</td>\n",
       "    </tr>\n",
       "    <tr>\n",
       "      <th>2013-04-30</th>\n",
       "      <td>3.197124</td>\n",
       "      <td>2.255232</td>\n",
       "      <td>1.896726</td>\n",
       "      <td>20</td>\n",
       "      <td>10</td>\n",
       "    </tr>\n",
       "    <tr>\n",
       "      <th>2013-05-31</th>\n",
       "      <td>4.154227</td>\n",
       "      <td>2.448165</td>\n",
       "      <td>2.218660</td>\n",
       "      <td>25</td>\n",
       "      <td>15</td>\n",
       "    </tr>\n",
       "    <tr>\n",
       "      <th>2013-06-30</th>\n",
       "      <td>4.179061</td>\n",
       "      <td>3.194311</td>\n",
       "      <td>3.075588</td>\n",
       "      <td>30</td>\n",
       "      <td>21</td>\n",
       "    </tr>\n",
       "    <tr>\n",
       "      <th>2013-07-31</th>\n",
       "      <td>6.847918</td>\n",
       "      <td>2.674552</td>\n",
       "      <td>1.678680</td>\n",
       "      <td>35</td>\n",
       "      <td>28</td>\n",
       "    </tr>\n",
       "    <tr>\n",
       "      <th>2013-08-31</th>\n",
       "      <td>7.512051</td>\n",
       "      <td>4.163160</td>\n",
       "      <td>2.553704</td>\n",
       "      <td>40</td>\n",
       "      <td>36</td>\n",
       "    </tr>\n",
       "    <tr>\n",
       "      <th>2013-09-30</th>\n",
       "      <td>7.316546</td>\n",
       "      <td>3.190229</td>\n",
       "      <td>2.474502</td>\n",
       "      <td>45</td>\n",
       "      <td>45</td>\n",
       "    </tr>\n",
       "    <tr>\n",
       "      <th>2013-10-31</th>\n",
       "      <td>6.677996</td>\n",
       "      <td>2.126637</td>\n",
       "      <td>2.146406</td>\n",
       "      <td>50</td>\n",
       "      <td>55</td>\n",
       "    </tr>\n",
       "    <tr>\n",
       "      <th>2013-11-30</th>\n",
       "      <td>5.647622</td>\n",
       "      <td>2.552489</td>\n",
       "      <td>2.315220</td>\n",
       "      <td>55</td>\n",
       "      <td>66</td>\n",
       "    </tr>\n",
       "    <tr>\n",
       "      <th>2013-12-31</th>\n",
       "      <td>5.809275</td>\n",
       "      <td>1.708551</td>\n",
       "      <td>2.626745</td>\n",
       "      <td>60</td>\n",
       "      <td>78</td>\n",
       "    </tr>\n",
       "  </tbody>\n",
       "</table>\n",
       "</div>"
      ],
      "text/plain": [
       "                   A         B         C   D   F\n",
       "2013-01-31  0.708013 -0.004502  0.441911   5   1\n",
       "2013-02-28  0.780108  1.612059  0.093945  10   3\n",
       "2013-03-31  1.447467  3.004997  2.549488  15   6\n",
       "2013-04-30  3.197124  2.255232  1.896726  20  10\n",
       "2013-05-31  4.154227  2.448165  2.218660  25  15\n",
       "2013-06-30  4.179061  3.194311  3.075588  30  21\n",
       "2013-07-31  6.847918  2.674552  1.678680  35  28\n",
       "2013-08-31  7.512051  4.163160  2.553704  40  36\n",
       "2013-09-30  7.316546  3.190229  2.474502  45  45\n",
       "2013-10-31  6.677996  2.126637  2.146406  50  55\n",
       "2013-11-30  5.647622  2.552489  2.315220  55  66\n",
       "2013-12-31  5.809275  1.708551  2.626745  60  78"
      ]
     },
     "execution_count": 86,
     "metadata": {
      "tags": []
     },
     "output_type": "execute_result"
    }
   ],
   "source": [
    "df.apply(np.cumsum)"
   ]
  },
  {
   "cell_type": "code",
   "execution_count": 0,
   "metadata": {
    "colab": {
     "base_uri": "https://localhost:8080/",
     "height": 118
    },
    "colab_type": "code",
    "id": "jSmXe8qRbBrq",
    "outputId": "5c46e035-382a-46b7-ac13-94131337f29a"
   },
   "outputs": [
    {
     "data": {
      "text/plain": [
       "A     3.699230\n",
       "B     2.680154\n",
       "C     3.852451\n",
       "D     0.000000\n",
       "F    11.000000\n",
       "dtype: float64"
      ]
     },
     "execution_count": 87,
     "metadata": {
      "tags": []
     },
     "output_type": "execute_result"
    }
   ],
   "source": [
    "df.apply(lambda x: x.max() - x.min())"
   ]
  },
  {
   "cell_type": "markdown",
   "metadata": {
    "colab_type": "text",
    "id": "U4NZnl7nbf8C"
   },
   "source": [
    "## Histogramming"
   ]
  },
  {
   "cell_type": "code",
   "execution_count": 0,
   "metadata": {
    "colab": {
     "base_uri": "https://localhost:8080/",
     "height": 202
    },
    "colab_type": "code",
    "id": "hmoWUnq-biAy",
    "outputId": "4801dab0-904e-4470-8b25-6cfbf5130527"
   },
   "outputs": [
    {
     "data": {
      "text/plain": [
       "0    0\n",
       "1    1\n",
       "2    5\n",
       "3    4\n",
       "4    6\n",
       "5    4\n",
       "6    2\n",
       "7    3\n",
       "8    4\n",
       "9    3\n",
       "dtype: int64"
      ]
     },
     "execution_count": 89,
     "metadata": {
      "tags": []
     },
     "output_type": "execute_result"
    }
   ],
   "source": [
    "s = pd.Series(np.random.randint(0, 7, size=10))\n",
    "\n",
    "s"
   ]
  },
  {
   "cell_type": "code",
   "execution_count": 0,
   "metadata": {
    "colab": {
     "base_uri": "https://localhost:8080/",
     "height": 151
    },
    "colab_type": "code",
    "id": "dWE_MEZ0bndp",
    "outputId": "88605d98-b6b9-4adf-9a63-872f13d0c8ee"
   },
   "outputs": [
    {
     "data": {
      "text/plain": [
       "4    3\n",
       "3    2\n",
       "6    1\n",
       "5    1\n",
       "2    1\n",
       "1    1\n",
       "0    1\n",
       "dtype: int64"
      ]
     },
     "execution_count": 90,
     "metadata": {
      "tags": []
     },
     "output_type": "execute_result"
    }
   ],
   "source": [
    "s.value_counts()"
   ]
  },
  {
   "cell_type": "markdown",
   "metadata": {
    "colab_type": "text",
    "id": "wtGdy-m-bx0L"
   },
   "source": [
    "## String Methods"
   ]
  },
  {
   "cell_type": "code",
   "execution_count": 0,
   "metadata": {
    "colab": {
     "base_uri": "https://localhost:8080/",
     "height": 185
    },
    "colab_type": "code",
    "id": "XEoFUkkGbz7S",
    "outputId": "e86a3684-3857-4dae-d3ec-e41caa1f729a"
   },
   "outputs": [
    {
     "data": {
      "text/plain": [
       "0       a\n",
       "1       b\n",
       "2       c\n",
       "3    aaba\n",
       "4    baca\n",
       "5     NaN\n",
       "6    caba\n",
       "7     dog\n",
       "8     cat\n",
       "dtype: object"
      ]
     },
     "execution_count": 93,
     "metadata": {
      "tags": []
     },
     "output_type": "execute_result"
    }
   ],
   "source": [
    "s = pd.Series([\"A\", \"B\", \"C\", \"Aaba\", \"Baca\", np.nan, \"CABA\", \"dog\", \"cat\"])\n",
    "\n",
    "s.str.lower()"
   ]
  },
  {
   "cell_type": "markdown",
   "metadata": {
    "colab_type": "text",
    "id": "I5o7bHyx32CK"
   },
   "source": [
    "# Merging"
   ]
  },
  {
   "cell_type": "markdown",
   "metadata": {
    "colab_type": "text",
    "id": "gfelMB4T34Y5"
   },
   "source": [
    "## Concat"
   ]
  },
  {
   "cell_type": "code",
   "execution_count": 0,
   "metadata": {
    "colab": {
     "base_uri": "https://localhost:8080/",
     "height": 343
    },
    "colab_type": "code",
    "id": "ivTFmTxR35x6",
    "outputId": "287f3053-e29b-4a7d-c183-2b4d75ea3a34"
   },
   "outputs": [
    {
     "data": {
      "text/html": [
       "<div>\n",
       "<style scoped>\n",
       "    .dataframe tbody tr th:only-of-type {\n",
       "        vertical-align: middle;\n",
       "    }\n",
       "\n",
       "    .dataframe tbody tr th {\n",
       "        vertical-align: top;\n",
       "    }\n",
       "\n",
       "    .dataframe thead th {\n",
       "        text-align: right;\n",
       "    }\n",
       "</style>\n",
       "<table border=\"1\" class=\"dataframe\">\n",
       "  <thead>\n",
       "    <tr style=\"text-align: right;\">\n",
       "      <th></th>\n",
       "      <th>0</th>\n",
       "      <th>1</th>\n",
       "      <th>2</th>\n",
       "      <th>3</th>\n",
       "    </tr>\n",
       "  </thead>\n",
       "  <tbody>\n",
       "    <tr>\n",
       "      <th>0</th>\n",
       "      <td>0.403484</td>\n",
       "      <td>0.515441</td>\n",
       "      <td>-0.992722</td>\n",
       "      <td>-2.609672</td>\n",
       "    </tr>\n",
       "    <tr>\n",
       "      <th>1</th>\n",
       "      <td>-1.398088</td>\n",
       "      <td>0.397657</td>\n",
       "      <td>-0.551187</td>\n",
       "      <td>-2.493898</td>\n",
       "    </tr>\n",
       "    <tr>\n",
       "      <th>2</th>\n",
       "      <td>0.204626</td>\n",
       "      <td>1.458532</td>\n",
       "      <td>-0.300470</td>\n",
       "      <td>-0.952265</td>\n",
       "    </tr>\n",
       "    <tr>\n",
       "      <th>3</th>\n",
       "      <td>-0.301223</td>\n",
       "      <td>0.257131</td>\n",
       "      <td>1.241459</td>\n",
       "      <td>0.386363</td>\n",
       "    </tr>\n",
       "    <tr>\n",
       "      <th>4</th>\n",
       "      <td>-0.194314</td>\n",
       "      <td>0.254605</td>\n",
       "      <td>0.514915</td>\n",
       "      <td>-0.359181</td>\n",
       "    </tr>\n",
       "    <tr>\n",
       "      <th>5</th>\n",
       "      <td>-0.627234</td>\n",
       "      <td>-1.050801</td>\n",
       "      <td>1.124745</td>\n",
       "      <td>0.077489</td>\n",
       "    </tr>\n",
       "    <tr>\n",
       "      <th>6</th>\n",
       "      <td>0.241969</td>\n",
       "      <td>1.230702</td>\n",
       "      <td>-0.452065</td>\n",
       "      <td>-0.907739</td>\n",
       "    </tr>\n",
       "    <tr>\n",
       "      <th>7</th>\n",
       "      <td>-0.907871</td>\n",
       "      <td>-1.731387</td>\n",
       "      <td>-0.046724</td>\n",
       "      <td>1.678696</td>\n",
       "    </tr>\n",
       "    <tr>\n",
       "      <th>8</th>\n",
       "      <td>-0.800211</td>\n",
       "      <td>-0.232825</td>\n",
       "      <td>0.005555</td>\n",
       "      <td>0.307398</td>\n",
       "    </tr>\n",
       "    <tr>\n",
       "      <th>9</th>\n",
       "      <td>-0.222369</td>\n",
       "      <td>1.711835</td>\n",
       "      <td>-3.187900</td>\n",
       "      <td>0.363910</td>\n",
       "    </tr>\n",
       "  </tbody>\n",
       "</table>\n",
       "</div>"
      ],
      "text/plain": [
       "          0         1         2         3\n",
       "0  0.403484  0.515441 -0.992722 -2.609672\n",
       "1 -1.398088  0.397657 -0.551187 -2.493898\n",
       "2  0.204626  1.458532 -0.300470 -0.952265\n",
       "3 -0.301223  0.257131  1.241459  0.386363\n",
       "4 -0.194314  0.254605  0.514915 -0.359181\n",
       "5 -0.627234 -1.050801  1.124745  0.077489\n",
       "6  0.241969  1.230702 -0.452065 -0.907739\n",
       "7 -0.907871 -1.731387 -0.046724  1.678696\n",
       "8 -0.800211 -0.232825  0.005555  0.307398\n",
       "9 -0.222369  1.711835 -3.187900  0.363910"
      ]
     },
     "execution_count": 94,
     "metadata": {
      "tags": []
     },
     "output_type": "execute_result"
    }
   ],
   "source": [
    "df = pd.DataFrame(np.random.randn(10, 4))\n",
    "df"
   ]
  },
  {
   "cell_type": "code",
   "execution_count": 0,
   "metadata": {
    "colab": {
     "base_uri": "https://localhost:8080/",
     "height": 235
    },
    "colab_type": "code",
    "id": "88NpoeMd4AHx",
    "outputId": "3302ac34-6633-4b96-b161-5a72934e9d4d"
   },
   "outputs": [
    {
     "data": {
      "text/plain": [
       "[          0         1         2         3\n",
       " 0  0.403484  0.515441 -0.992722 -2.609672\n",
       " 1 -1.398088  0.397657 -0.551187 -2.493898\n",
       " 2  0.204626  1.458532 -0.300470 -0.952265,\n",
       "           0         1         2         3\n",
       " 3 -0.301223  0.257131  1.241459  0.386363\n",
       " 4 -0.194314  0.254605  0.514915 -0.359181\n",
       " 5 -0.627234 -1.050801  1.124745  0.077489\n",
       " 6  0.241969  1.230702 -0.452065 -0.907739,\n",
       "           0         1         2         3\n",
       " 7 -0.907871 -1.731387 -0.046724  1.678696\n",
       " 8 -0.800211 -0.232825  0.005555  0.307398\n",
       " 9 -0.222369  1.711835 -3.187900  0.363910]"
      ]
     },
     "execution_count": 96,
     "metadata": {
      "tags": []
     },
     "output_type": "execute_result"
    }
   ],
   "source": [
    "#break it into pieces\n",
    "pieces = [df[:3], df[3:7], df[7:]]\n",
    "pieces"
   ]
  },
  {
   "cell_type": "code",
   "execution_count": 0,
   "metadata": {
    "colab": {
     "base_uri": "https://localhost:8080/",
     "height": 343
    },
    "colab_type": "code",
    "id": "D94Ed_o04QTZ",
    "outputId": "4ca44d15-f6e8-4592-db6e-02147436643b"
   },
   "outputs": [
    {
     "data": {
      "text/html": [
       "<div>\n",
       "<style scoped>\n",
       "    .dataframe tbody tr th:only-of-type {\n",
       "        vertical-align: middle;\n",
       "    }\n",
       "\n",
       "    .dataframe tbody tr th {\n",
       "        vertical-align: top;\n",
       "    }\n",
       "\n",
       "    .dataframe thead th {\n",
       "        text-align: right;\n",
       "    }\n",
       "</style>\n",
       "<table border=\"1\" class=\"dataframe\">\n",
       "  <thead>\n",
       "    <tr style=\"text-align: right;\">\n",
       "      <th></th>\n",
       "      <th>0</th>\n",
       "      <th>1</th>\n",
       "      <th>2</th>\n",
       "      <th>3</th>\n",
       "    </tr>\n",
       "  </thead>\n",
       "  <tbody>\n",
       "    <tr>\n",
       "      <th>0</th>\n",
       "      <td>0.403484</td>\n",
       "      <td>0.515441</td>\n",
       "      <td>-0.992722</td>\n",
       "      <td>-2.609672</td>\n",
       "    </tr>\n",
       "    <tr>\n",
       "      <th>1</th>\n",
       "      <td>-1.398088</td>\n",
       "      <td>0.397657</td>\n",
       "      <td>-0.551187</td>\n",
       "      <td>-2.493898</td>\n",
       "    </tr>\n",
       "    <tr>\n",
       "      <th>2</th>\n",
       "      <td>0.204626</td>\n",
       "      <td>1.458532</td>\n",
       "      <td>-0.300470</td>\n",
       "      <td>-0.952265</td>\n",
       "    </tr>\n",
       "    <tr>\n",
       "      <th>3</th>\n",
       "      <td>-0.301223</td>\n",
       "      <td>0.257131</td>\n",
       "      <td>1.241459</td>\n",
       "      <td>0.386363</td>\n",
       "    </tr>\n",
       "    <tr>\n",
       "      <th>4</th>\n",
       "      <td>-0.194314</td>\n",
       "      <td>0.254605</td>\n",
       "      <td>0.514915</td>\n",
       "      <td>-0.359181</td>\n",
       "    </tr>\n",
       "    <tr>\n",
       "      <th>5</th>\n",
       "      <td>-0.627234</td>\n",
       "      <td>-1.050801</td>\n",
       "      <td>1.124745</td>\n",
       "      <td>0.077489</td>\n",
       "    </tr>\n",
       "    <tr>\n",
       "      <th>6</th>\n",
       "      <td>0.241969</td>\n",
       "      <td>1.230702</td>\n",
       "      <td>-0.452065</td>\n",
       "      <td>-0.907739</td>\n",
       "    </tr>\n",
       "    <tr>\n",
       "      <th>7</th>\n",
       "      <td>-0.907871</td>\n",
       "      <td>-1.731387</td>\n",
       "      <td>-0.046724</td>\n",
       "      <td>1.678696</td>\n",
       "    </tr>\n",
       "    <tr>\n",
       "      <th>8</th>\n",
       "      <td>-0.800211</td>\n",
       "      <td>-0.232825</td>\n",
       "      <td>0.005555</td>\n",
       "      <td>0.307398</td>\n",
       "    </tr>\n",
       "    <tr>\n",
       "      <th>9</th>\n",
       "      <td>-0.222369</td>\n",
       "      <td>1.711835</td>\n",
       "      <td>-3.187900</td>\n",
       "      <td>0.363910</td>\n",
       "    </tr>\n",
       "  </tbody>\n",
       "</table>\n",
       "</div>"
      ],
      "text/plain": [
       "          0         1         2         3\n",
       "0  0.403484  0.515441 -0.992722 -2.609672\n",
       "1 -1.398088  0.397657 -0.551187 -2.493898\n",
       "2  0.204626  1.458532 -0.300470 -0.952265\n",
       "3 -0.301223  0.257131  1.241459  0.386363\n",
       "4 -0.194314  0.254605  0.514915 -0.359181\n",
       "5 -0.627234 -1.050801  1.124745  0.077489\n",
       "6  0.241969  1.230702 -0.452065 -0.907739\n",
       "7 -0.907871 -1.731387 -0.046724  1.678696\n",
       "8 -0.800211 -0.232825  0.005555  0.307398\n",
       "9 -0.222369  1.711835 -3.187900  0.363910"
      ]
     },
     "execution_count": 97,
     "metadata": {
      "tags": []
     },
     "output_type": "execute_result"
    }
   ],
   "source": [
    "#Concat the pieces\n",
    "pd.concat(pieces)"
   ]
  },
  {
   "cell_type": "markdown",
   "metadata": {
    "colab_type": "text",
    "id": "ue-l6sNf4W3S"
   },
   "source": [
    "## Join"
   ]
  },
  {
   "cell_type": "code",
   "execution_count": 0,
   "metadata": {
    "colab": {
     "base_uri": "https://localhost:8080/",
     "height": 266
    },
    "colab_type": "code",
    "id": "IfOiCYjm4Xzy",
    "outputId": "407cb9dc-2bbc-4a9e-eac2-751c174b55a8"
   },
   "outputs": [
    {
     "name": "stdout",
     "output_type": "stream",
     "text": [
      "   key  lval\n",
      "0  foo     1\n",
      "1  foo     2\n",
      "   key  lval\n",
      "0  foo     4\n",
      "1  foo     5\n"
     ]
    },
    {
     "data": {
      "text/html": [
       "<div>\n",
       "<style scoped>\n",
       "    .dataframe tbody tr th:only-of-type {\n",
       "        vertical-align: middle;\n",
       "    }\n",
       "\n",
       "    .dataframe tbody tr th {\n",
       "        vertical-align: top;\n",
       "    }\n",
       "\n",
       "    .dataframe thead th {\n",
       "        text-align: right;\n",
       "    }\n",
       "</style>\n",
       "<table border=\"1\" class=\"dataframe\">\n",
       "  <thead>\n",
       "    <tr style=\"text-align: right;\">\n",
       "      <th></th>\n",
       "      <th>key</th>\n",
       "      <th>lval_x</th>\n",
       "      <th>lval_y</th>\n",
       "    </tr>\n",
       "  </thead>\n",
       "  <tbody>\n",
       "    <tr>\n",
       "      <th>0</th>\n",
       "      <td>foo</td>\n",
       "      <td>1</td>\n",
       "      <td>4</td>\n",
       "    </tr>\n",
       "    <tr>\n",
       "      <th>1</th>\n",
       "      <td>foo</td>\n",
       "      <td>1</td>\n",
       "      <td>5</td>\n",
       "    </tr>\n",
       "    <tr>\n",
       "      <th>2</th>\n",
       "      <td>foo</td>\n",
       "      <td>2</td>\n",
       "      <td>4</td>\n",
       "    </tr>\n",
       "    <tr>\n",
       "      <th>3</th>\n",
       "      <td>foo</td>\n",
       "      <td>2</td>\n",
       "      <td>5</td>\n",
       "    </tr>\n",
       "  </tbody>\n",
       "</table>\n",
       "</div>"
      ],
      "text/plain": [
       "   key  lval_x  lval_y\n",
       "0  foo       1       4\n",
       "1  foo       1       5\n",
       "2  foo       2       4\n",
       "3  foo       2       5"
      ]
     },
     "execution_count": 100,
     "metadata": {
      "tags": []
     },
     "output_type": "execute_result"
    }
   ],
   "source": [
    "#SQL style merges\n",
    "left = pd.DataFrame({\"key\": [\"foo\", \"foo\"], \"lval\": [1, 2]})\n",
    "right = pd.DataFrame({\"key\": [\"foo\", \"foo\"], \"lval\": [4, 5]})\n",
    "\n",
    "print(left)\n",
    "print(right)\n",
    "\n",
    "pd.merge(left, right, on=\"key\")"
   ]
  },
  {
   "cell_type": "code",
   "execution_count": 0,
   "metadata": {
    "colab": {
     "base_uri": "https://localhost:8080/",
     "height": 266
    },
    "colab_type": "code",
    "id": "tvE_EL7q47fp",
    "outputId": "dea07a82-acb6-44a0-db46-8c7a38cc11bf"
   },
   "outputs": [
    {
     "name": "stdout",
     "output_type": "stream",
     "text": [
      "   key  lval\n",
      "0  foo     1\n",
      "1  foo     2\n",
      "   key  rval\n",
      "0  foo     4\n",
      "1  foo     5\n"
     ]
    },
    {
     "data": {
      "text/html": [
       "<div>\n",
       "<style scoped>\n",
       "    .dataframe tbody tr th:only-of-type {\n",
       "        vertical-align: middle;\n",
       "    }\n",
       "\n",
       "    .dataframe tbody tr th {\n",
       "        vertical-align: top;\n",
       "    }\n",
       "\n",
       "    .dataframe thead th {\n",
       "        text-align: right;\n",
       "    }\n",
       "</style>\n",
       "<table border=\"1\" class=\"dataframe\">\n",
       "  <thead>\n",
       "    <tr style=\"text-align: right;\">\n",
       "      <th></th>\n",
       "      <th>key</th>\n",
       "      <th>lval</th>\n",
       "      <th>rval</th>\n",
       "    </tr>\n",
       "  </thead>\n",
       "  <tbody>\n",
       "    <tr>\n",
       "      <th>0</th>\n",
       "      <td>foo</td>\n",
       "      <td>1</td>\n",
       "      <td>4</td>\n",
       "    </tr>\n",
       "    <tr>\n",
       "      <th>1</th>\n",
       "      <td>foo</td>\n",
       "      <td>1</td>\n",
       "      <td>5</td>\n",
       "    </tr>\n",
       "    <tr>\n",
       "      <th>2</th>\n",
       "      <td>foo</td>\n",
       "      <td>2</td>\n",
       "      <td>4</td>\n",
       "    </tr>\n",
       "    <tr>\n",
       "      <th>3</th>\n",
       "      <td>foo</td>\n",
       "      <td>2</td>\n",
       "      <td>5</td>\n",
       "    </tr>\n",
       "  </tbody>\n",
       "</table>\n",
       "</div>"
      ],
      "text/plain": [
       "   key  lval  rval\n",
       "0  foo     1     4\n",
       "1  foo     1     5\n",
       "2  foo     2     4\n",
       "3  foo     2     5"
      ]
     },
     "execution_count": 101,
     "metadata": {
      "tags": []
     },
     "output_type": "execute_result"
    }
   ],
   "source": [
    "#Another example\n",
    "left = pd.DataFrame({\"key\": [\"foo\", \"foo\"], \"lval\": [1, 2]})\n",
    "right = pd.DataFrame({\"key\": [\"foo\", \"foo\"], \"rval\": [4, 5]})\n",
    "\n",
    "print(left)\n",
    "print(right)\n",
    "\n",
    "pd.merge(left, right, on=\"key\")"
   ]
  },
  {
   "cell_type": "markdown",
   "metadata": {
    "colab_type": "text",
    "id": "DFd4UgJ55BIh"
   },
   "source": [
    "## Append"
   ]
  },
  {
   "cell_type": "code",
   "execution_count": 0,
   "metadata": {
    "colab": {
     "base_uri": "https://localhost:8080/",
     "height": 314
    },
    "colab_type": "code",
    "id": "oWsHmeHx5CPA",
    "outputId": "7216125c-9146-40c1-cb6a-750d38cfefdd"
   },
   "outputs": [
    {
     "data": {
      "text/html": [
       "<div>\n",
       "<style scoped>\n",
       "    .dataframe tbody tr th:only-of-type {\n",
       "        vertical-align: middle;\n",
       "    }\n",
       "\n",
       "    .dataframe tbody tr th {\n",
       "        vertical-align: top;\n",
       "    }\n",
       "\n",
       "    .dataframe thead th {\n",
       "        text-align: right;\n",
       "    }\n",
       "</style>\n",
       "<table border=\"1\" class=\"dataframe\">\n",
       "  <thead>\n",
       "    <tr style=\"text-align: right;\">\n",
       "      <th></th>\n",
       "      <th>A</th>\n",
       "      <th>B</th>\n",
       "      <th>C</th>\n",
       "      <th>D</th>\n",
       "    </tr>\n",
       "  </thead>\n",
       "  <tbody>\n",
       "    <tr>\n",
       "      <th>0</th>\n",
       "      <td>-1.797692</td>\n",
       "      <td>-0.489498</td>\n",
       "      <td>1.454718</td>\n",
       "      <td>-0.059405</td>\n",
       "    </tr>\n",
       "    <tr>\n",
       "      <th>1</th>\n",
       "      <td>1.470915</td>\n",
       "      <td>-0.666544</td>\n",
       "      <td>-0.807360</td>\n",
       "      <td>0.454401</td>\n",
       "    </tr>\n",
       "    <tr>\n",
       "      <th>2</th>\n",
       "      <td>0.302394</td>\n",
       "      <td>0.145382</td>\n",
       "      <td>-0.211988</td>\n",
       "      <td>-0.297299</td>\n",
       "    </tr>\n",
       "    <tr>\n",
       "      <th>3</th>\n",
       "      <td>-0.959213</td>\n",
       "      <td>0.151393</td>\n",
       "      <td>-0.240464</td>\n",
       "      <td>-0.756647</td>\n",
       "    </tr>\n",
       "    <tr>\n",
       "      <th>4</th>\n",
       "      <td>-1.262000</td>\n",
       "      <td>-0.491174</td>\n",
       "      <td>-0.909896</td>\n",
       "      <td>1.332070</td>\n",
       "    </tr>\n",
       "    <tr>\n",
       "      <th>5</th>\n",
       "      <td>-0.478503</td>\n",
       "      <td>1.230118</td>\n",
       "      <td>-0.199850</td>\n",
       "      <td>-0.214810</td>\n",
       "    </tr>\n",
       "    <tr>\n",
       "      <th>6</th>\n",
       "      <td>-0.449647</td>\n",
       "      <td>1.551120</td>\n",
       "      <td>-0.340804</td>\n",
       "      <td>1.153168</td>\n",
       "    </tr>\n",
       "    <tr>\n",
       "      <th>7</th>\n",
       "      <td>-0.408757</td>\n",
       "      <td>-0.688188</td>\n",
       "      <td>0.471903</td>\n",
       "      <td>0.118802</td>\n",
       "    </tr>\n",
       "    <tr>\n",
       "      <th>8</th>\n",
       "      <td>-0.959213</td>\n",
       "      <td>0.151393</td>\n",
       "      <td>-0.240464</td>\n",
       "      <td>-0.756647</td>\n",
       "    </tr>\n",
       "  </tbody>\n",
       "</table>\n",
       "</div>"
      ],
      "text/plain": [
       "          A         B         C         D\n",
       "0 -1.797692 -0.489498  1.454718 -0.059405\n",
       "1  1.470915 -0.666544 -0.807360  0.454401\n",
       "2  0.302394  0.145382 -0.211988 -0.297299\n",
       "3 -0.959213  0.151393 -0.240464 -0.756647\n",
       "4 -1.262000 -0.491174 -0.909896  1.332070\n",
       "5 -0.478503  1.230118 -0.199850 -0.214810\n",
       "6 -0.449647  1.551120 -0.340804  1.153168\n",
       "7 -0.408757 -0.688188  0.471903  0.118802\n",
       "8 -0.959213  0.151393 -0.240464 -0.756647"
      ]
     },
     "execution_count": 109,
     "metadata": {
      "tags": []
     },
     "output_type": "execute_result"
    }
   ],
   "source": [
    "#Append rows to a DataFrame\n",
    "\n",
    "df = pd.DataFrame(np.random.randn(8, 4), columns=list(\"ABCD\"))\n",
    "\n",
    "s = df.iloc[3]\n",
    "\n",
    "df.append(s, ignore_index=True)"
   ]
  },
  {
   "cell_type": "markdown",
   "metadata": {
    "colab_type": "text",
    "id": "YG9v96Hp5sbC"
   },
   "source": [
    "# Grouping\n",
    "By “group by” we are referring to a process involving one or more of the following steps:\n",
    "\n",
    "*   Splitting the data into groups based on some criteria\n",
    "*   Applying a function to each group independently\n",
    "\n",
    "*   Combining the results into a data structure\n",
    "\n"
   ]
  },
  {
   "cell_type": "code",
   "execution_count": 0,
   "metadata": {
    "colab": {
     "base_uri": "https://localhost:8080/",
     "height": 284
    },
    "colab_type": "code",
    "id": "wrV-N2Oa5tkc",
    "outputId": "2093ec3c-d8cd-4e8c-9621-7ab111dc0d2d"
   },
   "outputs": [
    {
     "data": {
      "text/html": [
       "<div>\n",
       "<style scoped>\n",
       "    .dataframe tbody tr th:only-of-type {\n",
       "        vertical-align: middle;\n",
       "    }\n",
       "\n",
       "    .dataframe tbody tr th {\n",
       "        vertical-align: top;\n",
       "    }\n",
       "\n",
       "    .dataframe thead th {\n",
       "        text-align: right;\n",
       "    }\n",
       "</style>\n",
       "<table border=\"1\" class=\"dataframe\">\n",
       "  <thead>\n",
       "    <tr style=\"text-align: right;\">\n",
       "      <th></th>\n",
       "      <th>A</th>\n",
       "      <th>B</th>\n",
       "      <th>C</th>\n",
       "      <th>D</th>\n",
       "    </tr>\n",
       "  </thead>\n",
       "  <tbody>\n",
       "    <tr>\n",
       "      <th>0</th>\n",
       "      <td>foo</td>\n",
       "      <td>one</td>\n",
       "      <td>-0.686562</td>\n",
       "      <td>-0.529086</td>\n",
       "    </tr>\n",
       "    <tr>\n",
       "      <th>1</th>\n",
       "      <td>bar</td>\n",
       "      <td>one</td>\n",
       "      <td>-0.581670</td>\n",
       "      <td>-0.785279</td>\n",
       "    </tr>\n",
       "    <tr>\n",
       "      <th>2</th>\n",
       "      <td>foo</td>\n",
       "      <td>two</td>\n",
       "      <td>1.789586</td>\n",
       "      <td>-0.541180</td>\n",
       "    </tr>\n",
       "    <tr>\n",
       "      <th>3</th>\n",
       "      <td>bar</td>\n",
       "      <td>three</td>\n",
       "      <td>0.704334</td>\n",
       "      <td>-0.313629</td>\n",
       "    </tr>\n",
       "    <tr>\n",
       "      <th>4</th>\n",
       "      <td>foo</td>\n",
       "      <td>two</td>\n",
       "      <td>1.752017</td>\n",
       "      <td>-0.359660</td>\n",
       "    </tr>\n",
       "    <tr>\n",
       "      <th>5</th>\n",
       "      <td>bar</td>\n",
       "      <td>two</td>\n",
       "      <td>-0.113411</td>\n",
       "      <td>-1.676184</td>\n",
       "    </tr>\n",
       "    <tr>\n",
       "      <th>6</th>\n",
       "      <td>foo</td>\n",
       "      <td>one</td>\n",
       "      <td>1.319374</td>\n",
       "      <td>0.446867</td>\n",
       "    </tr>\n",
       "    <tr>\n",
       "      <th>7</th>\n",
       "      <td>foo</td>\n",
       "      <td>three</td>\n",
       "      <td>2.000321</td>\n",
       "      <td>0.279283</td>\n",
       "    </tr>\n",
       "  </tbody>\n",
       "</table>\n",
       "</div>"
      ],
      "text/plain": [
       "     A      B         C         D\n",
       "0  foo    one -0.686562 -0.529086\n",
       "1  bar    one -0.581670 -0.785279\n",
       "2  foo    two  1.789586 -0.541180\n",
       "3  bar  three  0.704334 -0.313629\n",
       "4  foo    two  1.752017 -0.359660\n",
       "5  bar    two -0.113411 -1.676184\n",
       "6  foo    one  1.319374  0.446867\n",
       "7  foo  three  2.000321  0.279283"
      ]
     },
     "execution_count": 112,
     "metadata": {
      "tags": []
     },
     "output_type": "execute_result"
    }
   ],
   "source": [
    "df = pd.DataFrame({'A': ['foo', 'bar', 'foo', 'bar',\n",
    "                        'foo', 'bar', 'foo', 'foo'],\n",
    "                   'B': ['one', 'one', 'two', 'three',\n",
    "                         'two', 'two', 'one', 'three'],\n",
    "                   'C': np.random.randn(8),\n",
    "                   'D': np.random.randn(8)})\n",
    "    \n",
    "df"
   ]
  },
  {
   "cell_type": "code",
   "execution_count": 0,
   "metadata": {
    "colab": {
     "base_uri": "https://localhost:8080/",
     "height": 136
    },
    "colab_type": "code",
    "id": "GPZbFctQ60I1",
    "outputId": "8610e228-3461-4024-ec74-24ee90361009"
   },
   "outputs": [
    {
     "data": {
      "text/html": [
       "<div>\n",
       "<style scoped>\n",
       "    .dataframe tbody tr th:only-of-type {\n",
       "        vertical-align: middle;\n",
       "    }\n",
       "\n",
       "    .dataframe tbody tr th {\n",
       "        vertical-align: top;\n",
       "    }\n",
       "\n",
       "    .dataframe thead th {\n",
       "        text-align: right;\n",
       "    }\n",
       "</style>\n",
       "<table border=\"1\" class=\"dataframe\">\n",
       "  <thead>\n",
       "    <tr style=\"text-align: right;\">\n",
       "      <th></th>\n",
       "      <th>C</th>\n",
       "      <th>D</th>\n",
       "    </tr>\n",
       "    <tr>\n",
       "      <th>A</th>\n",
       "      <th></th>\n",
       "      <th></th>\n",
       "    </tr>\n",
       "  </thead>\n",
       "  <tbody>\n",
       "    <tr>\n",
       "      <th>bar</th>\n",
       "      <td>0.009254</td>\n",
       "      <td>-2.775091</td>\n",
       "    </tr>\n",
       "    <tr>\n",
       "      <th>foo</th>\n",
       "      <td>6.174735</td>\n",
       "      <td>-0.703776</td>\n",
       "    </tr>\n",
       "  </tbody>\n",
       "</table>\n",
       "</div>"
      ],
      "text/plain": [
       "            C         D\n",
       "A                      \n",
       "bar  0.009254 -2.775091\n",
       "foo  6.174735 -0.703776"
      ]
     },
     "execution_count": 113,
     "metadata": {
      "tags": []
     },
     "output_type": "execute_result"
    }
   ],
   "source": [
    "#All bar's sum into A.at[\"bar\"], all foo's sum into A.at[\"foo\"]\n",
    "df.groupby(\"A\").sum()"
   ]
  },
  {
   "cell_type": "code",
   "execution_count": 0,
   "metadata": {
    "colab": {
     "base_uri": "https://localhost:8080/",
     "height": 254
    },
    "colab_type": "code",
    "id": "CAx9mydp7Fvp",
    "outputId": "41fa0d5b-e40a-4aaf-cba1-56c83a36b014"
   },
   "outputs": [
    {
     "data": {
      "text/html": [
       "<div>\n",
       "<style scoped>\n",
       "    .dataframe tbody tr th:only-of-type {\n",
       "        vertical-align: middle;\n",
       "    }\n",
       "\n",
       "    .dataframe tbody tr th {\n",
       "        vertical-align: top;\n",
       "    }\n",
       "\n",
       "    .dataframe thead th {\n",
       "        text-align: right;\n",
       "    }\n",
       "</style>\n",
       "<table border=\"1\" class=\"dataframe\">\n",
       "  <thead>\n",
       "    <tr style=\"text-align: right;\">\n",
       "      <th></th>\n",
       "      <th></th>\n",
       "      <th>C</th>\n",
       "      <th>D</th>\n",
       "    </tr>\n",
       "    <tr>\n",
       "      <th>A</th>\n",
       "      <th>B</th>\n",
       "      <th></th>\n",
       "      <th></th>\n",
       "    </tr>\n",
       "  </thead>\n",
       "  <tbody>\n",
       "    <tr>\n",
       "      <th rowspan=\"3\" valign=\"top\">bar</th>\n",
       "      <th>one</th>\n",
       "      <td>-0.581670</td>\n",
       "      <td>-0.785279</td>\n",
       "    </tr>\n",
       "    <tr>\n",
       "      <th>three</th>\n",
       "      <td>0.704334</td>\n",
       "      <td>-0.313629</td>\n",
       "    </tr>\n",
       "    <tr>\n",
       "      <th>two</th>\n",
       "      <td>-0.113411</td>\n",
       "      <td>-1.676184</td>\n",
       "    </tr>\n",
       "    <tr>\n",
       "      <th rowspan=\"3\" valign=\"top\">foo</th>\n",
       "      <th>one</th>\n",
       "      <td>0.632811</td>\n",
       "      <td>-0.082219</td>\n",
       "    </tr>\n",
       "    <tr>\n",
       "      <th>three</th>\n",
       "      <td>2.000321</td>\n",
       "      <td>0.279283</td>\n",
       "    </tr>\n",
       "    <tr>\n",
       "      <th>two</th>\n",
       "      <td>3.541603</td>\n",
       "      <td>-0.900840</td>\n",
       "    </tr>\n",
       "  </tbody>\n",
       "</table>\n",
       "</div>"
      ],
      "text/plain": [
       "                  C         D\n",
       "A   B                        \n",
       "bar one   -0.581670 -0.785279\n",
       "    three  0.704334 -0.313629\n",
       "    two   -0.113411 -1.676184\n",
       "foo one    0.632811 -0.082219\n",
       "    three  2.000321  0.279283\n",
       "    two    3.541603 -0.900840"
      ]
     },
     "execution_count": 114,
     "metadata": {
      "tags": []
     },
     "output_type": "execute_result"
    }
   ],
   "source": [
    "#Grouping multiple columns forms a hierarchical index\n",
    "df.groupby([\"A\", \"B\"]).sum()"
   ]
  },
  {
   "cell_type": "markdown",
   "metadata": {
    "colab_type": "text",
    "id": "RO1AhCVy7Rhq"
   },
   "source": [
    "# Reshaping"
   ]
  },
  {
   "cell_type": "markdown",
   "metadata": {
    "colab_type": "text",
    "id": "ckJgepg07VB5"
   },
   "source": [
    "## Stack"
   ]
  },
  {
   "cell_type": "code",
   "execution_count": 0,
   "metadata": {
    "colab": {},
    "colab_type": "code",
    "id": "8Y3abL1dUQ6f"
   },
   "outputs": [],
   "source": []
  }
 ],
 "metadata": {
  "colab": {
   "collapsed_sections": [
    "5sL8E4TZDQ1_",
    "a4DghElZHAj-",
    "9x3OkAWCHEsI",
    "9x0FCNNnHiHX",
    "5Tthlf3qI0VB",
    "F8Ro_DJuJ235",
    "JB3P4n_tKwug",
    "WDTxytWFY25K",
    "RMDQu0UrZ5Hw",
    "HdEagnaOa5uT",
    "U4NZnl7nbf8C",
    "gfelMB4T34Y5",
    "ue-l6sNf4W3S",
    "DFd4UgJ55BIh",
    "YG9v96Hp5sbC",
    "RO1AhCVy7Rhq"
   ],
   "name": "PandasReference.ipynb",
   "provenance": []
  },
  "kernelspec": {
   "display_name": "Python 3",
   "language": "python",
   "name": "python3"
  },
  "language_info": {
   "codemirror_mode": {
    "name": "ipython",
    "version": 3
   },
   "file_extension": ".py",
   "mimetype": "text/x-python",
   "name": "python",
   "nbconvert_exporter": "python",
   "pygments_lexer": "ipython3",
   "version": "3.7.2"
  }
 },
 "nbformat": 4,
 "nbformat_minor": 1
}
